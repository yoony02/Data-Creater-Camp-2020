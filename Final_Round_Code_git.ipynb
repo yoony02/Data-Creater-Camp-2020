{
 "cells": [
  {
   "cell_type": "markdown",
   "metadata": {
    "id": "T6pJYqj_Xa8j"
   },
   "source": [
    "# **데이터크리에이터 캠프 본선**\n",
    "\n",
    "#### 2020년 10월 17일 이루어진 <a href = 'https://www.nia.or.kr/site/nia_kor/ex/bbs/View.do?cbIdx=99835&bcIdx=22678&parentSeq=22678'>2020년 데이터크리에이터 캠프</a> 1회차 본선 출제문제와 코드"
   ]
  },
  {
   "cell_type": "markdown",
   "metadata": {
    "id": "yDD90NAhgGyQ"
   },
   "source": [
    "## **본선 출제문제**\n",
    "\n",
    "**Q. 당신은 분식점을 운영하고 있는 사장이다. 주력 메뉴는 만두, 새우튀김, 순대로 해당 메뉴가 매출에 큰 영향을 미친다. 따라서 주력 메뉴의 리뷰를 각각 관리하기 위해 주력 메뉴의 사진이 있는 리뷰 중 이미지만 모아 이를 분류하는 모델을 만들고자 한다. 만두, 새우튀김, 순대 사진을 분류하는 머신러닝 또는 딥러닝 모델을 만드시오. (데이터셋 별도 제공)**\n",
    "\n",
    "[공통사항]\n",
    "- 데이터셋은 머신러닝 데이터와 딥러닝 데이터로 2개가 제공됩니다. 둘은 동일한 데이터입니다.\n",
    "- 이미지 픽셀값(입력변수)를 통해 만두, 새우튀김, 순대(출력 변수)를 분류하시오.\n",
    "- Train Data의 개수는 600개(각 Class마다 200장씩), Test Data의 개수는 300개 입니다. Test Data를 예측하여 .npy로 제출해주시기 바랍니다.\n",
    "- 3개의 Class에 대한 Accuracy로 성능을 평가합니다."
   ]
  },
  {
   "cell_type": "markdown",
   "metadata": {
    "id": "CUJ97LpnUFsv"
   },
   "source": [
    "## **EDA**"
   ]
  },
  {
   "cell_type": "code",
   "execution_count": 2,
   "metadata": {
    "colab": {
     "base_uri": "https://localhost:8080/"
    },
    "executionInfo": {
     "elapsed": 2175,
     "status": "ok",
     "timestamp": 1618986215869,
     "user": {
      "displayName": "Heeyoon Yang",
      "photoUrl": "https://lh3.googleusercontent.com/a-/AOh14GjNETLFCppB8yGTHZEplmM0zGmYR2gJ3DvbEe_mfg=s64",
      "userId": "13895884260217851907"
     },
     "user_tz": -540
    },
    "id": "Zicxzmv4gGya",
    "outputId": "ca3df8f8-9337-4d95-c4f1-0b3c511426d2"
   },
   "outputs": [
    {
     "name": "stdout",
     "output_type": "stream",
     "text": [
      "/content\n"
     ]
    }
   ],
   "source": [
    "import os\n",
    "print(os.getcwd())\n",
    "import warnings\n",
    "warnings.filterwarnings(\"ignore\")\n",
    "\n",
    "import numpy as np\n",
    "import pandas as pd\n",
    "\n",
    "from matplotlib import pyplot as plt\n",
    "import seaborn as sns"
   ]
  },
  {
   "cell_type": "code",
   "execution_count": 3,
   "metadata": {
    "colab": {
     "base_uri": "https://localhost:8080/"
    },
    "executionInfo": {
     "elapsed": 3410,
     "status": "ok",
     "timestamp": 1618986229764,
     "user": {
      "displayName": "Heeyoon Yang",
      "photoUrl": "https://lh3.googleusercontent.com/a-/AOh14GjNETLFCppB8yGTHZEplmM0zGmYR2gJ3DvbEe_mfg=s64",
      "userId": "13895884260217851907"
     },
     "user_tz": -540
    },
    "id": "Gu-32kY2gGyc",
    "outputId": "dba2c429-3a39-41d3-a22a-8974dcacb644"
   },
   "outputs": [
    {
     "data": {
      "text/plain": [
       "((600, 3073), (300, 3072))"
      ]
     },
     "execution_count": 3,
     "metadata": {
      "tags": []
     },
     "output_type": "execute_result"
    }
   ],
   "source": [
    "train_df = pd.read_pickle(\"train.pkl\")\n",
    "test_df = pd.read_pickle(\"test.pkl\")\n",
    "train_df.shape, test_df.shape"
   ]
  },
  {
   "cell_type": "code",
   "execution_count": 4,
   "metadata": {
    "executionInfo": {
     "elapsed": 656,
     "status": "ok",
     "timestamp": 1618986231500,
     "user": {
      "displayName": "Heeyoon Yang",
      "photoUrl": "https://lh3.googleusercontent.com/a-/AOh14GjNETLFCppB8yGTHZEplmM0zGmYR2gJ3DvbEe_mfg=s64",
      "userId": "13895884260217851907"
     },
     "user_tz": -540
    },
    "id": "HETY4Wj6gGyd"
   },
   "outputs": [],
   "source": [
    "X_train = train_df.iloc[:, :-1]\n",
    "y_train = train_df['label']-3"
   ]
  },
  {
   "cell_type": "code",
   "execution_count": 5,
   "metadata": {
    "colab": {
     "base_uri": "https://localhost:8080/"
    },
    "executionInfo": {
     "elapsed": 526,
     "status": "ok",
     "timestamp": 1618986233112,
     "user": {
      "displayName": "Heeyoon Yang",
      "photoUrl": "https://lh3.googleusercontent.com/a-/AOh14GjNETLFCppB8yGTHZEplmM0zGmYR2gJ3DvbEe_mfg=s64",
      "userId": "13895884260217851907"
     },
     "user_tz": -540
    },
    "id": "rIdto-aBgGye",
    "outputId": "245dbdf5-06f0-47be-dc62-c2b01d8518bd"
   },
   "outputs": [
    {
     "data": {
      "text/plain": [
       "array([0, 1, 2], dtype=int32)"
      ]
     },
     "execution_count": 5,
     "metadata": {
      "tags": []
     },
     "output_type": "execute_result"
    }
   ],
   "source": [
    "y_train.unique()"
   ]
  },
  {
   "cell_type": "markdown",
   "metadata": {
    "id": "0c-X3LOjUPPE"
   },
   "source": [
    "### **데이터 확인**"
   ]
  },
  {
   "cell_type": "code",
   "execution_count": 6,
   "metadata": {
    "executionInfo": {
     "elapsed": 744,
     "status": "ok",
     "timestamp": 1618986235954,
     "user": {
      "displayName": "Heeyoon Yang",
      "photoUrl": "https://lh3.googleusercontent.com/a-/AOh14GjNETLFCppB8yGTHZEplmM0zGmYR2gJ3DvbEe_mfg=s64",
      "userId": "13895884260217851907"
     },
     "user_tz": -540
    },
    "id": "Lx6Wk009gGye"
   },
   "outputs": [],
   "source": [
    "X_train_array = np.array(X_train).reshape(600, 32, 32, 3)"
   ]
  },
  {
   "cell_type": "code",
   "execution_count": null,
   "metadata": {
    "colab": {
     "base_uri": "https://localhost:8080/",
     "height": 266
    },
    "executionInfo": {
     "elapsed": 1068,
     "status": "ok",
     "timestamp": 1618986237496,
     "user": {
      "displayName": "Heeyoon Yang",
      "photoUrl": "https://lh3.googleusercontent.com/a-/AOh14GjNETLFCppB8yGTHZEplmM0zGmYR2gJ3DvbEe_mfg=s64",
      "userId": "13895884260217851907"
     },
     "user_tz": -540
    },
    "id": "g1sTtG6LgGyf",
    "outputId": "5d6ff8d0-3120-4e29-960c-e9b04d6508a5"
   },
   "outputs": [],
   "source": [
    "plt.imshow(X_train_array[0])\n",
    "plt.show()"
   ]
  },
  {
   "cell_type": "code",
   "execution_count": null,
   "metadata": {
    "colab": {
     "base_uri": "https://localhost:8080/",
     "height": 266
    },
    "executionInfo": {
     "elapsed": 767,
     "status": "ok",
     "timestamp": 1618986239510,
     "user": {
      "displayName": "Heeyoon Yang",
      "photoUrl": "https://lh3.googleusercontent.com/a-/AOh14GjNETLFCppB8yGTHZEplmM0zGmYR2gJ3DvbEe_mfg=s64",
      "userId": "13895884260217851907"
     },
     "user_tz": -540
    },
    "id": "qv8cil1OgGyf",
    "outputId": "b67644c6-621c-4acc-fe4d-35d68706f79c"
   },
   "outputs": [],
   "source": [
    "plt.imshow(X_train_array[1])\n",
    "plt.show()"
   ]
  },
  {
   "cell_type": "markdown",
   "metadata": {
    "id": "65Vte0cZgGyg"
   },
   "source": [
    "### **RGB 특성 탐색**"
   ]
  },
  {
   "cell_type": "code",
   "execution_count": 9,
   "metadata": {
    "executionInfo": {
     "elapsed": 729,
     "status": "ok",
     "timestamp": 1618986241923,
     "user": {
      "displayName": "Heeyoon Yang",
      "photoUrl": "https://lh3.googleusercontent.com/a-/AOh14GjNETLFCppB8yGTHZEplmM0zGmYR2gJ3DvbEe_mfg=s64",
      "userId": "13895884260217851907"
     },
     "user_tz": -540
    },
    "id": "ZocZJ5eLgGyg"
   },
   "outputs": [],
   "source": [
    "df_label0 = train_df[train_df['label'] == 3].iloc[:, :-1]\n",
    "df_label1 = train_df[train_df['label'] == 4].iloc[:, :-1]\n",
    "df_label2 = train_df[train_df['label'] == 5].iloc[:, :-1]\n",
    "\n",
    "df_label0_array = np.array(df_label0).reshape(200, 32, 32, 3)\n",
    "df_label1_array = np.array(df_label1).reshape(200, 32, 32, 3)\n",
    "df_label2_array = np.array(df_label2).reshape(200, 32, 32, 3)"
   ]
  },
  {
   "cell_type": "code",
   "execution_count": null,
   "metadata": {
    "colab": {
     "base_uri": "https://localhost:8080/",
     "height": 285
    },
    "executionInfo": {
     "elapsed": 772,
     "status": "ok",
     "timestamp": 1618986244772,
     "user": {
      "displayName": "Heeyoon Yang",
      "photoUrl": "https://lh3.googleusercontent.com/a-/AOh14GjNETLFCppB8yGTHZEplmM0zGmYR2gJ3DvbEe_mfg=s64",
      "userId": "13895884260217851907"
     },
     "user_tz": -540
    },
    "id": "Ml5sr4INgGyg",
    "outputId": "04915ba7-1379-4a54-c309-8850886962a8"
   },
   "outputs": [],
   "source": [
    "plt.imshow(df_label0_array[0, :, :, 0], cmap = plt.cm.bone)"
   ]
  },
  {
   "cell_type": "code",
   "execution_count": null,
   "metadata": {
    "colab": {
     "base_uri": "https://localhost:8080/",
     "height": 285
    },
    "executionInfo": {
     "elapsed": 913,
     "status": "ok",
     "timestamp": 1618986246508,
     "user": {
      "displayName": "Heeyoon Yang",
      "photoUrl": "https://lh3.googleusercontent.com/a-/AOh14GjNETLFCppB8yGTHZEplmM0zGmYR2gJ3DvbEe_mfg=s64",
      "userId": "13895884260217851907"
     },
     "user_tz": -540
    },
    "id": "GfIsFQg4gGyh",
    "outputId": "dd130594-6c28-4c1b-f341-7f9d94630f62"
   },
   "outputs": [],
   "source": [
    "plt.imshow(df_label0_array[0, :, :, 1], cmap = plt.cm.bone)"
   ]
  },
  {
   "cell_type": "code",
   "execution_count": null,
   "metadata": {
    "colab": {
     "base_uri": "https://localhost:8080/",
     "height": 285
    },
    "executionInfo": {
     "elapsed": 859,
     "status": "ok",
     "timestamp": 1618986249077,
     "user": {
      "displayName": "Heeyoon Yang",
      "photoUrl": "https://lh3.googleusercontent.com/a-/AOh14GjNETLFCppB8yGTHZEplmM0zGmYR2gJ3DvbEe_mfg=s64",
      "userId": "13895884260217851907"
     },
     "user_tz": -540
    },
    "id": "MJNEY8JTgGyh",
    "outputId": "b4a4ccb3-b268-4d32-c15e-69851addace8"
   },
   "outputs": [],
   "source": [
    "plt.imshow(df_label0_array[0, :, :, 2], cmap = plt.cm.bone)"
   ]
  },
  {
   "cell_type": "code",
   "execution_count": 48,
   "metadata": {
    "colab": {
     "base_uri": "https://localhost:8080/",
     "height": 281
    },
    "executionInfo": {
     "elapsed": 62369,
     "status": "ok",
     "timestamp": 1618990636601,
     "user": {
      "displayName": "Heeyoon Yang",
      "photoUrl": "https://lh3.googleusercontent.com/a-/AOh14GjNETLFCppB8yGTHZEplmM0zGmYR2gJ3DvbEe_mfg=s64",
      "userId": "13895884260217851907"
     },
     "user_tz": -540
    },
    "id": "vp5eIhiBgGyh",
    "outputId": "d2cac75c-6e2a-4688-9c8b-1596a428dc4f"
   },
   "outputs": [
    {
     "data": {
      "image/png": "[encoded data removed]",
      "text/plain": [
       "<Figure size 432x288 with 3 Axes>"
      ]
     },
     "metadata": {
      "needs_background": "light",
      "tags": []
     },
     "output_type": "display_data"
    }
   ],
   "source": [
    "plt.subplot(1, 3, 1)\n",
    "plt.hist(df_label0_array[:, :, :, 0].reshape(200, 1024))\n",
    "plt.subplot(1, 3, 2)\n",
    "plt.hist(df_label0_array[:, :, :, 1].reshape(200, 1024))\n",
    "plt.subplot(1, 3, 3)\n",
    "plt.hist(df_label0_array[:, :, :, 2].reshape(200, 1024))\n",
    "\n",
    "plt.title('RGB distribution of First Class')\n",
    "plt.show()"
   ]
  },
  {
   "cell_type": "code",
   "execution_count": 14,
   "metadata": {
    "colab": {
     "base_uri": "https://localhost:8080/",
     "height": 281
    },
    "executionInfo": {
     "elapsed": 63560,
     "status": "ok",
     "timestamp": 1618986382332,
     "user": {
      "displayName": "Heeyoon Yang",
      "photoUrl": "https://lh3.googleusercontent.com/a-/AOh14GjNETLFCppB8yGTHZEplmM0zGmYR2gJ3DvbEe_mfg=s64",
      "userId": "13895884260217851907"
     },
     "user_tz": -540
    },
    "id": "CbKsvIItgGyi",
    "outputId": "d74e589d-5826-434a-f7a9-898f5311b76f"
   },
   "outputs": [
    {
     "data": {
      "image/png": "[encoded data removed]",
      "text/plain": [
       "<Figure size 432x288 with 3 Axes>"
      ]
     },
     "metadata": {
      "needs_background": "light",
      "tags": []
     },
     "output_type": "display_data"
    }
   ],
   "source": [
    "plt.subplot(1, 3, 1)\n",
    "plt.hist(df_label1_array[:, :, :, 0].reshape(200, 1024))\n",
    "plt.subplot(1, 3, 2)\n",
    "plt.hist(df_label1_array[:, :, :, 1].reshape(200, 1024))\n",
    "plt.subplot(1, 3, 3)\n",
    "plt.hist(df_label1_array[:, :, :, 2].reshape(200, 1024))\n",
    "\n",
    "plt.title('RGB distribution of Second Class')\n",
    "plt.show()"
   ]
  },
  {
   "cell_type": "code",
   "execution_count": 15,
   "metadata": {
    "colab": {
     "base_uri": "https://localhost:8080/",
     "height": 281
    },
    "executionInfo": {
     "elapsed": 124412,
     "status": "ok",
     "timestamp": 1618986443207,
     "user": {
      "displayName": "Heeyoon Yang",
      "photoUrl": "https://lh3.googleusercontent.com/a-/AOh14GjNETLFCppB8yGTHZEplmM0zGmYR2gJ3DvbEe_mfg=s64",
      "userId": "13895884260217851907"
     },
     "user_tz": -540
    },
    "id": "_M35KBjBgGyi",
    "outputId": "f44b29ce-26d7-44d7-abf7-783c14807d0b"
   },
   "outputs": [
    {
     "data": {
      "image/png": "[encoded data removed]",
      "text/plain": [
       "<Figure size 432x288 with 3 Axes>"
      ]
     },
     "metadata": {
      "needs_background": "light",
      "tags": []
     },
     "output_type": "display_data"
    }
   ],
   "source": [
    "plt.subplot(1, 3, 1)\n",
    "plt.hist(df_label2_array[:, :, :, 0].reshape(200, 1024))\n",
    "plt.subplot(1, 3, 2)\n",
    "plt.hist(df_label2_array[:, :, :, 1].reshape(200, 1024))\n",
    "plt.subplot(1, 3, 3)\n",
    "plt.hist(df_label2_array[:, :, :, 2].reshape(200, 1024))\n",
    "\n",
    "plt.title('RGB distribution of Third Class')\n",
    "plt.show()"
   ]
  },
  {
   "cell_type": "markdown",
   "metadata": {
    "id": "OA8rWsy-gGyj"
   },
   "source": [
    "## **Modeling**"
   ]
  },
  {
   "cell_type": "markdown",
   "metadata": {
    "id": "ER7hxyYEUZPy"
   },
   "source": [
    "#### **Try various machine learning models**"
   ]
  },
  {
   "cell_type": "code",
   "execution_count": 16,
   "metadata": {
    "colab": {
     "base_uri": "https://localhost:8080/"
    },
    "executionInfo": {
     "elapsed": 1096499,
     "status": "ok",
     "timestamp": 1618987415327,
     "user": {
      "displayName": "Heeyoon Yang",
      "photoUrl": "https://lh3.googleusercontent.com/a-/AOh14GjNETLFCppB8yGTHZEplmM0zGmYR2gJ3DvbEe_mfg=s64",
      "userId": "13895884260217851907"
     },
     "user_tz": -540
    },
    "id": "3cX9A33egGyj",
    "outputId": "9b1620dd-f9bc-43ff-84fc-9c0af4db59b0"
   },
   "outputs": [
    {
     "name": "stdout",
     "output_type": "stream",
     "text": [
      "LogisticRegression: 0.844234, 0.0245\n",
      "\n",
      "SVM: 0.882589, 0.0322\n",
      "\n",
      "RandomForest: 0.878416, 0.0415\n",
      "\n",
      "GB: 0.892241, 0.0239\n",
      "\n",
      "XGB: 0.887313, 0.0318\n",
      "\n",
      "LGBM: 0.885706, 0.0229\n",
      "\n"
     ]
    }
   ],
   "source": [
    "# Logistic Regression, Support Vector Machine, Random Forest, \n",
    "# GradientBoost, XGBoost, LightGBM\n",
    "\n",
    "from sklearn.linear_model import LogisticRegression\n",
    "from sklearn.svm import SVC\n",
    "from sklearn.ensemble import RandomForestClassifier, GradientBoostingClassifier\n",
    "from lightgbm import LGBMClassifier\n",
    "from xgboost import XGBClassifier\n",
    "\n",
    "models = [LogisticRegression(multi_class='multinomial'), \n",
    "          SVC(), \n",
    "          RandomForestClassifier(), \n",
    "          GradientBoostingClassifier(),\n",
    "          XGBClassifier(objective = 'multi:softmax'), \n",
    "          LGBMClassifier(objective = 'multiclass')]\n",
    "\n",
    "names = ['LogisticRegression', 'SVM', 'RandomForest', \n",
    "         'GB', 'XGB', 'LGBM']\n",
    "\n",
    "\n",
    "from sklearn.model_selection import StratifiedKFold\n",
    "from sklearn.model_selection import cross_val_score\n",
    "\n",
    "## Stratified K Fold using label feature\n",
    "skf = list(StratifiedKFold(n_splits = 5, random_state = 2021).split(train_df, train_df['label'])) \n",
    "\n",
    "# define cross validation strategy\n",
    "def accu_cv(model,X,y):\n",
    "    acc = np.sqrt(cross_val_score(model, X, y, cv = skf, scoring = 'accuracy'))\n",
    "    return acc\n",
    "\n",
    "for name, model in zip(names, models):\n",
    "    score = accu_cv(model, X_train, y_train)\n",
    "    print(\"{}: {:.6f}, {:.4f}\\n\".format(name, score.mean(), score.std()))"
   ]
  },
  {
   "cell_type": "markdown",
   "metadata": {
    "id": "Wo-qP9c-jBuS"
   },
   "source": [
    "#### **Learn and Check validation scores using Top 4 Classifier**"
   ]
  },
  {
   "cell_type": "code",
   "execution_count": 17,
   "metadata": {
    "colab": {
     "base_uri": "https://localhost:8080/"
    },
    "executionInfo": {
     "elapsed": 1096485,
     "status": "ok",
     "timestamp": 1618987415329,
     "user": {
      "displayName": "Heeyoon Yang",
      "photoUrl": "https://lh3.googleusercontent.com/a-/AOh14GjNETLFCppB8yGTHZEplmM0zGmYR2gJ3DvbEe_mfg=s64",
      "userId": "13895884260217851907"
     },
     "user_tz": -540
    },
    "id": "PAnk4j1cj_4b",
    "outputId": "5a525ce4-abac-4dc5-f27a-217b0eabcb5f"
   },
   "outputs": [
    {
     "name": "stdout",
     "output_type": "stream",
     "text": [
      "(420, 3072) (420,)\n",
      "(180, 3072) (180,)\n"
     ]
    }
   ],
   "source": [
    "SEED = 1017\n",
    "\n",
    "from sklearn.model_selection import train_test_split\n",
    "from sklearn.metrics import accuracy_score, classification_report\n",
    "\n",
    "X_train, X_val, y_train, y_val = train_test_split(X_train, y_train, \n",
    "                                                  test_size = 0.3, \n",
    "                                                  shuffle = True,  \n",
    "                                                  random_state = SEED)\n",
    "\n",
    "print(X_train.shape, y_train.shape)\n",
    "print(X_val.shape, y_val.shape)"
   ]
  },
  {
   "cell_type": "markdown",
   "metadata": {
    "id": "JYEM9d5jj73h"
   },
   "source": [
    "##### **SVM**"
   ]
  },
  {
   "cell_type": "code",
   "execution_count": 18,
   "metadata": {
    "colab": {
     "base_uri": "https://localhost:8080/"
    },
    "executionInfo": {
     "elapsed": 1098433,
     "status": "ok",
     "timestamp": 1618987417290,
     "user": {
      "displayName": "Heeyoon Yang",
      "photoUrl": "https://lh3.googleusercontent.com/a-/AOh14GjNETLFCppB8yGTHZEplmM0zGmYR2gJ3DvbEe_mfg=s64",
      "userId": "13895884260217851907"
     },
     "user_tz": -540
    },
    "id": "ox73y4YYlKGl",
    "outputId": "45f4417f-515d-40c6-d267-eb7292bcdb92"
   },
   "outputs": [
    {
     "name": "stdout",
     "output_type": "stream",
     "text": [
      "0.7888888888888889\n"
     ]
    }
   ],
   "source": [
    "svc = SVC(probability = True, random_state = SEED)\n",
    "svc_fitted = svc.fit(X_train, y_train)\n",
    "print(svc_fitted.score(X_val, y_val))\n",
    "\n",
    "## get val score\n",
    "svc_val_pred = svc_fitted.predict(X_val)\n",
    "print(svc_fitted.score(X_val, y_val))\n",
    "print(classification_report(y_val, svc_val_pred))\n",
    "\n",
    "## predict\n",
    "# svc_pred = svc_fitted.predict(test_df)"
   ]
  },
  {
   "cell_type": "markdown",
   "metadata": {
    "id": "VXFjjWaMlwYx"
   },
   "source": [
    "##### **Gradient Boosting**"
   ]
  },
  {
   "cell_type": "code",
   "execution_count": 22,
   "metadata": {
    "colab": {
     "base_uri": "https://localhost:8080/"
    },
    "executionInfo": {
     "elapsed": 844,
     "status": "ok",
     "timestamp": 1618987571235,
     "user": {
      "displayName": "Heeyoon Yang",
      "photoUrl": "https://lh3.googleusercontent.com/a-/AOh14GjNETLFCppB8yGTHZEplmM0zGmYR2gJ3DvbEe_mfg=s64",
      "userId": "13895884260217851907"
     },
     "user_tz": -540
    },
    "id": "jbJooXS3jA10",
    "outputId": "2fbe5523-aaa5-4dd9-e518-4da60e61aeeb"
   },
   "outputs": [
    {
     "name": "stdout",
     "output_type": "stream",
     "text": [
      "0.8\n",
      "              precision    recall  f1-score   support\n",
      "\n",
      "           0       0.67      0.81      0.73        52\n",
      "           1       0.88      0.78      0.83        64\n",
      "           2       0.87      0.81      0.84        64\n",
      "\n",
      "    accuracy                           0.80       180\n",
      "   macro avg       0.80      0.80      0.80       180\n",
      "weighted avg       0.81      0.80      0.80       180\n",
      "\n"
     ]
    }
   ],
   "source": [
    "from sklearn.metrics import accuracy_score, classification_report\n",
    "\n",
    "gb = GradientBoostingClassifier(random_state = SEED)\n",
    "gb_fitted = gb.fit(X_train, y_train)\n",
    "\n",
    "## get val score\n",
    "gb_val_pred = gb_fitted.predict(X_val)\n",
    "print(gb_fitted.score(X_val, y_val))\n",
    "print(classification_report(y_val, gb_val_pred))\n",
    "\n",
    "# ## predict\n",
    "# gb_pred = gb_fitted.predict(test_df)"
   ]
  },
  {
   "cell_type": "markdown",
   "metadata": {
    "id": "D_1jS4_4Uuoz"
   },
   "source": [
    "##### **LightGBM**"
   ]
  },
  {
   "cell_type": "code",
   "execution_count": 23,
   "metadata": {
    "colab": {
     "base_uri": "https://localhost:8080/"
    },
    "executionInfo": {
     "elapsed": 40342,
     "status": "ok",
     "timestamp": 1618987624170,
     "user": {
      "displayName": "Heeyoon Yang",
      "photoUrl": "https://lh3.googleusercontent.com/a-/AOh14GjNETLFCppB8yGTHZEplmM0zGmYR2gJ3DvbEe_mfg=s64",
      "userId": "13895884260217851907"
     },
     "user_tz": -540
    },
    "id": "IW-M1WMal12V",
    "outputId": "922109c5-03fb-4654-b346-50763def691a"
   },
   "outputs": [
    {
     "name": "stdout",
     "output_type": "stream",
     "text": [
      "0.7777777777777778\n",
      "              precision    recall  f1-score   support\n",
      "\n",
      "           0       0.63      0.77      0.70        52\n",
      "           1       0.87      0.75      0.81        64\n",
      "           2       0.84      0.81      0.83        64\n",
      "\n",
      "    accuracy                           0.78       180\n",
      "   macro avg       0.78      0.78      0.78       180\n",
      "weighted avg       0.79      0.78      0.78       180\n",
      "\n"
     ]
    }
   ],
   "source": [
    "import lightgbm as lgb\n",
    "\n",
    "lgb_model = lgb.LGBMClassifier(task = 'train',\n",
    "                               boosting_type ='gbdt',  \n",
    "                               objective ='multiclass',\n",
    "                               save_binary = True,\n",
    "                               metric ='multi_logloss',\n",
    "                               random_state = SEED)\n",
    "\n",
    "lgb_model_fitted = lgb_model.fit(X_train, y_train, \n",
    "                                 verbose = False, \n",
    "                                 early_stopping_rounds = 50, \n",
    "                                 eval_metric = 'multi_logloss', \n",
    "                                 eval_set = [(X_train, y_train), (X_val, y_val)], \n",
    "                                 eval_names = ['train', 'valid'])\n",
    "\n",
    "## get val score\n",
    "lgb_val_pred = lgb_model_fitted.predict(X_val)\n",
    "print(lgb_model_fitted.score(X_val, y_val))\n",
    "print(classification_report(y_val, lgb_val_pred))\n",
    "\n",
    "# ## prediction\n",
    "# lgb_pred = lgb_model_fitted.predict(test_df)"
   ]
  },
  {
   "cell_type": "markdown",
   "metadata": {
    "id": "FdomPL5EU1Im"
   },
   "source": [
    "##### **XGBoost**"
   ]
  },
  {
   "cell_type": "code",
   "execution_count": 24,
   "metadata": {
    "colab": {
     "base_uri": "https://localhost:8080/"
    },
    "executionInfo": {
     "elapsed": 59474,
     "status": "ok",
     "timestamp": 1618987651013,
     "user": {
      "displayName": "Heeyoon Yang",
      "photoUrl": "https://lh3.googleusercontent.com/a-/AOh14GjNETLFCppB8yGTHZEplmM0zGmYR2gJ3DvbEe_mfg=s64",
      "userId": "13895884260217851907"
     },
     "user_tz": -540
    },
    "id": "QfOeQ0WBGBZP",
    "outputId": "4f49cb79-bb18-481b-8928-2343c2238470"
   },
   "outputs": [
    {
     "name": "stdout",
     "output_type": "stream",
     "text": [
      "[0]\tvalidation_0-merror:0.344444\n",
      "[1]\tvalidation_0-merror:0.3\n",
      "[2]\tvalidation_0-merror:0.327778\n",
      "[3]\tvalidation_0-merror:0.288889\n",
      "[4]\tvalidation_0-merror:0.283333\n",
      "[5]\tvalidation_0-merror:0.288889\n",
      "[6]\tvalidation_0-merror:0.277778\n",
      "[7]\tvalidation_0-merror:0.266667\n",
      "[8]\tvalidation_0-merror:0.266667\n",
      "[9]\tvalidation_0-merror:0.261111\n",
      "[10]\tvalidation_0-merror:0.288889\n",
      "[11]\tvalidation_0-merror:0.283333\n",
      "[12]\tvalidation_0-merror:0.277778\n",
      "[13]\tvalidation_0-merror:0.283333\n",
      "[14]\tvalidation_0-merror:0.266667\n",
      "[15]\tvalidation_0-merror:0.261111\n",
      "[16]\tvalidation_0-merror:0.255556\n",
      "[17]\tvalidation_0-merror:0.25\n",
      "[18]\tvalidation_0-merror:0.261111\n",
      "[19]\tvalidation_0-merror:0.244444\n",
      "[20]\tvalidation_0-merror:0.238889\n",
      "[21]\tvalidation_0-merror:0.233333\n",
      "[22]\tvalidation_0-merror:0.233333\n",
      "[23]\tvalidation_0-merror:0.233333\n",
      "[24]\tvalidation_0-merror:0.233333\n",
      "[25]\tvalidation_0-merror:0.227778\n",
      "[26]\tvalidation_0-merror:0.227778\n",
      "[27]\tvalidation_0-merror:0.233333\n",
      "[28]\tvalidation_0-merror:0.233333\n",
      "[29]\tvalidation_0-merror:0.227778\n",
      "[30]\tvalidation_0-merror:0.227778\n",
      "[31]\tvalidation_0-merror:0.227778\n",
      "[32]\tvalidation_0-merror:0.227778\n",
      "[33]\tvalidation_0-merror:0.227778\n",
      "[34]\tvalidation_0-merror:0.222222\n",
      "[35]\tvalidation_0-merror:0.222222\n",
      "[36]\tvalidation_0-merror:0.222222\n",
      "[37]\tvalidation_0-merror:0.222222\n",
      "[38]\tvalidation_0-merror:0.222222\n",
      "[39]\tvalidation_0-merror:0.216667\n",
      "[40]\tvalidation_0-merror:0.222222\n",
      "[41]\tvalidation_0-merror:0.222222\n",
      "[42]\tvalidation_0-merror:0.222222\n",
      "[43]\tvalidation_0-merror:0.222222\n",
      "[44]\tvalidation_0-merror:0.216667\n",
      "[45]\tvalidation_0-merror:0.205556\n",
      "[46]\tvalidation_0-merror:0.211111\n",
      "[47]\tvalidation_0-merror:0.205556\n",
      "[48]\tvalidation_0-merror:0.211111\n",
      "[49]\tvalidation_0-merror:0.2\n",
      "[50]\tvalidation_0-merror:0.211111\n",
      "[51]\tvalidation_0-merror:0.211111\n",
      "[52]\tvalidation_0-merror:0.211111\n",
      "[53]\tvalidation_0-merror:0.211111\n",
      "[54]\tvalidation_0-merror:0.216667\n",
      "[55]\tvalidation_0-merror:0.222222\n",
      "[56]\tvalidation_0-merror:0.216667\n",
      "[57]\tvalidation_0-merror:0.211111\n",
      "[58]\tvalidation_0-merror:0.216667\n",
      "[59]\tvalidation_0-merror:0.216667\n",
      "[60]\tvalidation_0-merror:0.216667\n",
      "[61]\tvalidation_0-merror:0.216667\n",
      "[62]\tvalidation_0-merror:0.222222\n",
      "[63]\tvalidation_0-merror:0.222222\n",
      "[64]\tvalidation_0-merror:0.216667\n",
      "[65]\tvalidation_0-merror:0.216667\n",
      "[66]\tvalidation_0-merror:0.205556\n",
      "[67]\tvalidation_0-merror:0.211111\n",
      "[68]\tvalidation_0-merror:0.211111\n",
      "[69]\tvalidation_0-merror:0.211111\n",
      "[70]\tvalidation_0-merror:0.211111\n",
      "[71]\tvalidation_0-merror:0.211111\n",
      "[72]\tvalidation_0-merror:0.205556\n",
      "[73]\tvalidation_0-merror:0.216667\n",
      "[74]\tvalidation_0-merror:0.211111\n",
      "[75]\tvalidation_0-merror:0.216667\n",
      "[76]\tvalidation_0-merror:0.211111\n",
      "[77]\tvalidation_0-merror:0.222222\n",
      "[78]\tvalidation_0-merror:0.216667\n",
      "[79]\tvalidation_0-merror:0.222222\n",
      "[80]\tvalidation_0-merror:0.222222\n",
      "[81]\tvalidation_0-merror:0.216667\n",
      "[82]\tvalidation_0-merror:0.211111\n",
      "[83]\tvalidation_0-merror:0.211111\n",
      "[84]\tvalidation_0-merror:0.211111\n",
      "[85]\tvalidation_0-merror:0.2\n",
      "[86]\tvalidation_0-merror:0.194444\n",
      "[87]\tvalidation_0-merror:0.205556\n",
      "[88]\tvalidation_0-merror:0.205556\n",
      "[89]\tvalidation_0-merror:0.205556\n",
      "[90]\tvalidation_0-merror:0.211111\n",
      "[91]\tvalidation_0-merror:0.205556\n",
      "[92]\tvalidation_0-merror:0.211111\n",
      "[93]\tvalidation_0-merror:0.211111\n",
      "[94]\tvalidation_0-merror:0.216667\n",
      "[95]\tvalidation_0-merror:0.216667\n",
      "[96]\tvalidation_0-merror:0.216667\n",
      "[97]\tvalidation_0-merror:0.216667\n",
      "[98]\tvalidation_0-merror:0.216667\n",
      "[99]\tvalidation_0-merror:0.205556\n",
      "0.7944444444444444\n",
      "              precision    recall  f1-score   support\n",
      "\n",
      "           0       0.64      0.81      0.71        52\n",
      "           1       0.93      0.78      0.85        64\n",
      "           2       0.85      0.80      0.82        64\n",
      "\n",
      "    accuracy                           0.79       180\n",
      "   macro avg       0.80      0.80      0.79       180\n",
      "weighted avg       0.82      0.79      0.80       180\n",
      "\n"
     ]
    }
   ],
   "source": [
    "## XGBoost\n",
    "import xgboost as xgb\n",
    "\n",
    "xgb_model = xgb.XGBClassifier(booster = 'gbtree',\n",
    "                              objective = 'multiclass',\n",
    "                              random_state = SEED,  \n",
    "                              verbosity = 1)\n",
    "\n",
    "xgb_model_fitted = xgb_model.fit(X_train, y_train, eval_set = [(X_val, y_val)])\n",
    "    \n",
    "## get val score\n",
    "xg_val_pred = xgb_model_fitted.predict(X_val)\n",
    "print(xgb_model_fitted.score(X_val, y_val))\n",
    "print(classification_report(y_val, xg_val_pred))\n",
    "\n",
    "# #prediction\n",
    "# xg_pred = xgb_model_fitted.predict(test_df)"
   ]
  },
  {
   "cell_type": "markdown",
   "metadata": {
    "id": "PUOHhD7ViGdo"
   },
   "source": [
    "#### **Hard/Soft Voting using Aforementioned classifiers**"
   ]
  },
  {
   "cell_type": "markdown",
   "metadata": {
    "id": "FYJZmBrJVQDI"
   },
   "source": [
    "##### **Hard Voting**"
   ]
  },
  {
   "cell_type": "code",
   "execution_count": 26,
   "metadata": {
    "colab": {
     "base_uri": "https://localhost:8080/"
    },
    "executionInfo": {
     "elapsed": 132733,
     "status": "ok",
     "timestamp": 1618987899642,
     "user": {
      "displayName": "Heeyoon Yang",
      "photoUrl": "https://lh3.googleusercontent.com/a-/AOh14GjNETLFCppB8yGTHZEplmM0zGmYR2gJ3DvbEe_mfg=s64",
      "userId": "13895884260217851907"
     },
     "user_tz": -540
    },
    "id": "7z_Qt8SdgGyk",
    "outputId": "38b5a281-858c-4575-d6a1-cf4859c40e88"
   },
   "outputs": [
    {
     "name": "stdout",
     "output_type": "stream",
     "text": [
      "0.8\n"
     ]
    }
   ],
   "source": [
    "from sklearn.ensemble import VotingClassifier\n",
    "\n",
    "hard_voter = VotingClassifier(estimators = [('svc', svc),\n",
    "                                            ('gb', gb), \n",
    "                                            ('xgb', xgb_model)], \n",
    "                              voting = 'hard')\n",
    "\n",
    "hard_voter = hard_voter.fit(X_train, y_train)\n",
    "print(hard_voter.score(X_val, y_val))\n",
    "\n",
    "hard_voter_pred = hard_voter.predict(test_df)\n",
    "# np.save(\"hard_voter_pred.npy\", hard_voter_pred+3)"
   ]
  },
  {
   "cell_type": "markdown",
   "metadata": {
    "id": "T5WQnMJ-VteJ"
   },
   "source": [
    "##### **Soft Voting**"
   ]
  },
  {
   "cell_type": "code",
   "execution_count": 32,
   "metadata": {
    "colab": {
     "base_uri": "https://localhost:8080/"
    },
    "executionInfo": {
     "elapsed": 171341,
     "status": "ok",
     "timestamp": 1618988618710,
     "user": {
      "displayName": "Heeyoon Yang",
      "photoUrl": "https://lh3.googleusercontent.com/a-/AOh14GjNETLFCppB8yGTHZEplmM0zGmYR2gJ3DvbEe_mfg=s64",
      "userId": "13895884260217851907"
     },
     "user_tz": -540
    },
    "id": "WgbiWkV6MQCY",
    "outputId": "387569f8-dbe9-4316-aa9f-f57212936372"
   },
   "outputs": [
    {
     "name": "stdout",
     "output_type": "stream",
     "text": [
      "0.8055555555555556\n"
     ]
    }
   ],
   "source": [
    "soft_voter = VotingClassifier(estimators = [('svc', svc),\n",
    "                                            ('gb', gb), \n",
    "                                            ('lgb', lgb_model),\n",
    "                                            ('xgb', xgb_model)], \n",
    "                              voting = 'soft')\n",
    "\n",
    "soft_voter = soft_voter.fit(X_train, y_train)\n",
    "print(soft_voter.score(X_val, y_val))\n",
    "\n",
    "soft_voter_pred = soft_voter.predict(test_df)\n",
    "# np.save(\"soft_voter_pred.npy\", soft_voter_pred+3)"
   ]
  },
  {
   "cell_type": "markdown",
   "metadata": {
    "id": "AP_vp6AKNb6r"
   },
   "source": [
    "#### **Stacking using same classifiers**"
   ]
  },
  {
   "cell_type": "code",
   "execution_count": 44,
   "metadata": {
    "colab": {
     "base_uri": "https://localhost:8080/"
    },
    "executionInfo": {
     "elapsed": 297202,
     "status": "ok",
     "timestamp": 1618989328472,
     "user": {
      "displayName": "Heeyoon Yang",
      "photoUrl": "https://lh3.googleusercontent.com/a-/AOh14GjNETLFCppB8yGTHZEplmM0zGmYR2gJ3DvbEe_mfg=s64",
      "userId": "13895884260217851907"
     },
     "user_tz": -540
    },
    "id": "5BP_JzylQGpY",
    "outputId": "85adec89-31f1-4d7c-ae14-339aa22d832c"
   },
   "outputs": [
    {
     "name": "stdout",
     "output_type": "stream",
     "text": [
      "Fitting 3 classifiers...\n",
      "Fitting classifier1: gradientboostingclassifier (1/3)\n",
      "GradientBoostingClassifier(ccp_alpha=0.0, criterion='friedman_mse', init=None,\n",
      "                           learning_rate=0.1, loss='deviance', max_depth=3,\n",
      "                           max_features=None, max_leaf_nodes=None,\n",
      "                           min_impurity_decrease=0.0, min_impurity_split=None,\n",
      "                           min_samples_leaf=1, min_samples_split=2,\n",
      "                           min_weight_fraction_leaf=0.0, n_estimators=100,\n",
      "                           n_iter_no_change=None, presort='deprecated',\n",
      "                           random_state=1017, subsample=1.0, tol=0.0001,\n",
      "                           validation_fraction=0.1, verbose=0,\n",
      "                           warm_start=False)\n",
      "Training and fitting fold 1 of 2...\n",
      "Training and fitting fold 2 of 2...\n",
      "Fitting classifier2: lgbmclassifier (2/3)\n",
      "LGBMClassifier(boosting_type='gbdt', class_weight=None, colsample_bytree=1.0,\n",
      "               importance_type='split', learning_rate=0.1, max_depth=-1,\n",
      "               metric='multi_logloss', min_child_samples=20,\n",
      "               min_child_weight=0.001, min_split_gain=0.0, n_estimators=100,\n",
      "               n_jobs=-1, num_leaves=31, objective='multiclass',\n",
      "               random_state=1017, reg_alpha=0.0, reg_lambda=0.0,\n",
      "               save_binary=True, silent=True, subsample=1.0,\n",
      "               subsample_for_bin=200000, subsample_freq=0, task='train')\n",
      "Training and fitting fold 1 of 2...\n",
      "Training and fitting fold 2 of 2...\n",
      "Fitting classifier3: xgbclassifier (3/3)\n",
      "XGBClassifier(base_score=0.5, booster='gbtree', colsample_bylevel=1,\n",
      "              colsample_bynode=1, colsample_bytree=1, gamma=0,\n",
      "              learning_rate=0.1, max_delta_step=0, max_depth=3,\n",
      "              min_child_weight=1, missing=None, n_estimators=100, n_jobs=1,\n",
      "              nthread=None, objective='multiclass', random_state=1017,\n",
      "              reg_alpha=0, reg_lambda=1, scale_pos_weight=1, seed=None,\n",
      "              silent=None, subsample=1, verbosity=1)\n",
      "Training and fitting fold 1 of 2...\n",
      "Training and fitting fold 2 of 2...\n"
     ]
    },
    {
     "data": {
      "text/plain": [
       "StackingCVClassifier(classifiers=[GradientBoostingClassifier(ccp_alpha=0.0,\n",
       "                                                             criterion='friedman_mse',\n",
       "                                                             init=None,\n",
       "                                                             learning_rate=0.1,\n",
       "                                                             loss='deviance',\n",
       "                                                             max_depth=3,\n",
       "                                                             max_features=None,\n",
       "                                                             max_leaf_nodes=None,\n",
       "                                                             min_impurity_decrease=0.0,\n",
       "                                                             min_impurity_split=None,\n",
       "                                                             min_samples_leaf=1,\n",
       "                                                             min_samples_split=2,\n",
       "                                                             min_weight_fraction_leaf=0.0,\n",
       "                                                             n_estimators=100,\n",
       "                                                             n_iter_no_change=None...\n",
       "       372, 373, 374, 375, 376, 377, 378, 379, 380, 381, 382, 383, 384,\n",
       "       385, 386, 387, 388, 389, 390, 391, 392, 393, 394, 395, 396, 397,\n",
       "       398, 399, 560, 561, 562, 563, 564, 565, 566, 567, 568, 569, 570,\n",
       "       571, 572, 573, 574, 575, 576, 577, 578, 579, 580, 581, 582, 583,\n",
       "       584, 585, 586, 587, 588, 589, 590, 591, 592, 593, 594, 595, 596,\n",
       "       597, 598, 599]))],\n",
       "                     use_clones=True, use_features_in_secondary=False,\n",
       "                     use_probas=False, verbose=2)"
      ]
     },
     "execution_count": 44,
     "metadata": {
      "tags": []
     },
     "output_type": "execute_result"
    }
   ],
   "source": [
    "from mlxtend.classifier import StackingCVClassifier\n",
    "\n",
    "stacker = StackingCVClassifier(classifiers=[gb, lgb_model, xgb_model],\n",
    "                               meta_classifier = svc, \n",
    "                               verbose = 2, \n",
    "                               stratify = skf)\n",
    "\n",
    "\n",
    "## consider the input shape of StackingCVClassifier => array not dataFrame\n",
    "stacker.fit(X_train.values, y_train.values)"
   ]
  },
  {
   "cell_type": "code",
   "execution_count": 45,
   "metadata": {
    "colab": {
     "base_uri": "https://localhost:8080/"
    },
    "executionInfo": {
     "elapsed": 508,
     "status": "ok",
     "timestamp": 1618989370467,
     "user": {
      "displayName": "Heeyoon Yang",
      "photoUrl": "https://lh3.googleusercontent.com/a-/AOh14GjNETLFCppB8yGTHZEplmM0zGmYR2gJ3DvbEe_mfg=s64",
      "userId": "13895884260217851907"
     },
     "user_tz": -540
    },
    "id": "uDjCCL4TSQBn",
    "outputId": "70d6cc98-41a9-4715-bab8-8365a8a26b62"
   },
   "outputs": [
    {
     "data": {
      "text/plain": [
       "0.7944444444444444"
      ]
     },
     "execution_count": 45,
     "metadata": {
      "tags": []
     },
     "output_type": "execute_result"
    }
   ],
   "source": [
    "stacker.score(X_val.values, y_val.values)"
   ]
  },
  {
   "cell_type": "code",
   "execution_count": null,
   "metadata": {
    "colab": {
     "base_uri": "https://localhost:8080/"
    },
    "executionInfo": {
     "elapsed": 871,
     "status": "ok",
     "timestamp": 1618989402922,
     "user": {
      "displayName": "Heeyoon Yang",
      "photoUrl": "https://lh3.googleusercontent.com/a-/AOh14GjNETLFCppB8yGTHZEplmM0zGmYR2gJ3DvbEe_mfg=s64",
      "userId": "13895884260217851907"
     },
     "user_tz": -540
    },
    "id": "gTPurR3SSWvo",
    "outputId": "e9fcd0ee-aa36-4bee-b8bc-1e43c88865aa"
   },
   "outputs": [],
   "source": [
    "stacker_pred = stacker.predict(test_df.values)\n",
    "# np.save(\"stacker_pred.npy\", stacker_pred)"
   ]
  }
 ],
 "metadata": {
  "colab": {
   "collapsed_sections": [],
   "name": "본선.ipynb",
   "provenance": [],
   "toc_visible": true
  },
  "kernelspec": {
   "display_name": "Python 3",
   "language": "python",
   "name": "python3"
  },
  "language_info": {
   "codemirror_mode": {
    "name": "ipython",
    "version": 3
   },
   "file_extension": ".py",
   "mimetype": "text/x-python",
   "name": "python",
   "nbconvert_exporter": "python",
   "pygments_lexer": "ipython3",
   "version": "3.6.7"
  }
 },
 "nbformat": 4,
 "nbformat_minor": 4
}

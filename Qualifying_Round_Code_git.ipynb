{
 "cells": [
  {
   "cell_type": "markdown",
   "metadata": {
    "id": "ZqhTj5fqYooG"
   },
   "source": [
    "# **데이터크리에이터 캠프 예선**\n",
    "\n",
    "#### 2020년 10월 10일 이루어진 <a href = 'https://www.nia.or.kr/site/nia_kor/ex/bbs/View.do?cbIdx=99835&bcIdx=22678&parentSeq=22678'>2020년 데이터크리에이터 캠프</a> 3회차 예선 출제문제와 코드"
   ]
  },
  {
   "cell_type": "markdown",
   "metadata": {
    "id": "XXkXFc0fW5dc"
   },
   "source": [
    "## **예선 문제**\n",
    "\n",
    "**Q. 당신은 음식점을 운영하고 있습니다. 최근 고객들의 남긴 리뷰에 따라 매출에 영향을 미친다는 사실을 알게 되었습니다. 따라서, 이에 대처하고자 감성분석을 통해 부정적인 댓글은 필터링하고 긍정적인 댓글을 상위로 노출시키는 대응을 하고자 합니다.**\n",
    "\n",
    "[공통사항] \n",
    "- 모델을 구축하기 위해 맛집 평점 리뷰데이터를 크롤링하여 Raw Text로 부터 Feature를 추출하였습니다. Feature 추출 방법은 Binary Term Document Frequency로 300개의 Word가 Feature로 구성됩니다. 따라서 입력변수는 Word로 300개가 존재합니다. 또한 해당 Document(Review 한 개 = Row 한 개)에서 Word가 존재하면 1 아니면 0으로 구성됩니다. \n",
    "- 이를 사용하여 Train Data 9452개 리뷰를 ensemble 모델과 KNN, Linear Regression을 적용하여 감성분석 모델을 만들고 가장 우수한 모델을 찾아 Test Data 9000개에 대해 예측하여 제출해주시기 바랍니다.\n",
    "- 긍정, 부정 모두 잘 분류하는 모델을 만들기 위해 모델 평가는 Accuracy를 사용하기로 합니다."
   ]
  },
  {
   "cell_type": "code",
   "execution_count": 1,
   "metadata": {
    "colab": {
     "base_uri": "https://localhost:8080/"
    },
    "executionInfo": {
     "elapsed": 23825,
     "status": "ok",
     "timestamp": 1618990633972,
     "user": {
      "displayName": "Heeyoon Yang",
      "photoUrl": "https://lh3.googleusercontent.com/a-/AOh14GjNETLFCppB8yGTHZEplmM0zGmYR2gJ3DvbEe_mfg=s64",
      "userId": "13895884260217851907"
     },
     "user_tz": -540
    },
    "id": "Us13rDioW5do",
    "outputId": "2f1f8c6a-0e89-47ed-a559-a149be3d955f"
   },
   "outputs": [
    {
     "name": "stdout",
     "output_type": "stream",
     "text": [
      "Mounted at /content/drive\n"
     ]
    }
   ],
   "source": [
    "from google.colab import drive\n",
    "drive.mount('/content/drive')"
   ]
  },
  {
   "cell_type": "code",
   "execution_count": 2,
   "metadata": {
    "colab": {
     "base_uri": "https://localhost:8080/"
    },
    "executionInfo": {
     "elapsed": 1863,
     "status": "ok",
     "timestamp": 1618990977164,
     "user": {
      "displayName": "Heeyoon Yang",
      "photoUrl": "https://lh3.googleusercontent.com/a-/AOh14GjNETLFCppB8yGTHZEplmM0zGmYR2gJ3DvbEe_mfg=s64",
      "userId": "13895884260217851907"
     },
     "user_tz": -540
    },
    "id": "ues0ua_sXDae",
    "outputId": "c75b70fc-71f1-474f-ed20-2b636c46c4ae"
   },
   "outputs": [
    {
     "name": "stdout",
     "output_type": "stream",
     "text": [
      "/content\n"
     ]
    }
   ],
   "source": [
    "import os\n",
    "print(os.getcwd())\n",
    "import warnings\n",
    "warnings.filterwarnings(\"ignore\")\n",
    "\n",
    "import numpy as np\n",
    "import pandas as pd\n",
    "\n",
    "from matplotlib import pyplot as plt\n",
    "import seaborn as sns"
   ]
  },
  {
   "cell_type": "markdown",
   "metadata": {
    "id": "8wqh2nhQYu_g"
   },
   "source": [
    "### **DATA**"
   ]
  },
  {
   "cell_type": "markdown",
   "metadata": {
    "id": "ZR04p75vY0bQ"
   },
   "source": [
    "#### **데이터 확인**"
   ]
  },
  {
   "cell_type": "code",
   "execution_count": 23,
   "metadata": {
    "executionInfo": {
     "elapsed": 988,
     "status": "ok",
     "timestamp": 1618991890274,
     "user": {
      "displayName": "Heeyoon Yang",
      "photoUrl": "https://lh3.googleusercontent.com/a-/AOh14GjNETLFCppB8yGTHZEplmM0zGmYR2gJ3DvbEe_mfg=s64",
      "userId": "13895884260217851907"
     },
     "user_tz": -540
    },
    "id": "MR-UYk3yYciu"
   },
   "outputs": [],
   "source": [
    "train = pd.read_csv('/content/drive/MyDrive/코드정리/sentiment_dtm_train.csv', encoding = 'CP949')\n",
    "test = pd.read_csv('/content/drive/MyDrive/코드정리/sentiment_dtm_test.csv', encoding = 'CP949')"
   ]
  },
  {
   "cell_type": "code",
   "execution_count": 21,
   "metadata": {
    "colab": {
     "base_uri": "https://localhost:8080/",
     "height": 281
    },
    "executionInfo": {
     "elapsed": 1213,
     "status": "ok",
     "timestamp": 1618991705221,
     "user": {
      "displayName": "Heeyoon Yang",
      "photoUrl": "https://lh3.googleusercontent.com/a-/AOh14GjNETLFCppB8yGTHZEplmM0zGmYR2gJ3DvbEe_mfg=s64",
      "userId": "13895884260217851907"
     },
     "user_tz": -540
    },
    "id": "NmPn0uQrZt74",
    "outputId": "bb2a3c6a-d3b9-4b69-99d8-c0c9dda2b822"
   },
   "outputs": [
    {
     "data": {
      "image/png": "[encoded data removed]",
      "text/plain": [
       "<Figure size 432x288 with 1 Axes>"
      ]
     },
     "metadata": {
      "needs_background": "light",
      "tags": []
     },
     "output_type": "display_data"
    }
   ],
   "source": [
    "plt.bar(train['label'].unique(), train.groupby('label').count()['Id'])\n",
    "plt.title('label counts')\n",
    "plt.show()"
   ]
  },
  {
   "cell_type": "markdown",
   "metadata": {
    "id": "HBe1EtFxbUaI"
   },
   "source": [
    "#### **Add Features**"
   ]
  },
  {
   "cell_type": "code",
   "execution_count": 24,
   "metadata": {
    "colab": {
     "base_uri": "https://localhost:8080/"
    },
    "executionInfo": {
     "elapsed": 991,
     "status": "ok",
     "timestamp": 1618991914410,
     "user": {
      "displayName": "Heeyoon Yang",
      "photoUrl": "https://lh3.googleusercontent.com/a-/AOh14GjNETLFCppB8yGTHZEplmM0zGmYR2gJ3DvbEe_mfg=s64",
      "userId": "13895884260217851907"
     },
     "user_tz": -540
    },
    "id": "HBqMelo8aMxq",
    "outputId": "5cce0a6b-ebf2-4185-83a1-8cefc5d0af05"
   },
   "outputs": [
    {
     "name": "stdout",
     "output_type": "stream",
     "text": [
      "check train shape:  (9452, 304)\n",
      "check test shape:  (9000, 303)\n"
     ]
    }
   ],
   "source": [
    "import copy\n",
    "\n",
    "train['w_cnt'] = train[train.columns.difference(['Id', 'label'])].sum(axis = 1)\n",
    "train['w_perc'] = train['w_cnt'].copy()/300\n",
    "\n",
    "test['w_cnt'] = test[test.columns.difference(['Id', 'label'])].sum(axis = 1)\n",
    "test['w_perc'] = test['w_cnt'].copy()/300\n",
    "\n",
    "print(\"check train shape: \", train.shape)\n",
    "print(\"check test shape: \", test.shape)"
   ]
  },
  {
   "cell_type": "markdown",
   "metadata": {
    "id": "MkqcHa0hcJRJ"
   },
   "source": [
    "#### **Train and Validation Split**"
   ]
  },
  {
   "cell_type": "code",
   "execution_count": 26,
   "metadata": {
    "colab": {
     "base_uri": "https://localhost:8080/"
    },
    "executionInfo": {
     "elapsed": 904,
     "status": "ok",
     "timestamp": 1618992095254,
     "user": {
      "displayName": "Heeyoon Yang",
      "photoUrl": "https://lh3.googleusercontent.com/a-/AOh14GjNETLFCppB8yGTHZEplmM0zGmYR2gJ3DvbEe_mfg=s64",
      "userId": "13895884260217851907"
     },
     "user_tz": -540
    },
    "id": "XncczPJYcD_x",
    "outputId": "4522c903-91ab-4408-9bbe-baa43c37c00f"
   },
   "outputs": [
    {
     "name": "stdout",
     "output_type": "stream",
     "text": [
      "the number of columns :  302\n"
     ]
    }
   ],
   "source": [
    "SEED = 2021\n",
    "\n",
    "from sklearn.model_selection import train_test_split\n",
    "\n",
    "avoid_cols = ['label', 'Id']\n",
    "cols = [col for col in train.columns if col not in avoid_cols]\n",
    "print(\"the number of columns : \", len(cols))\n",
    "\n",
    "X_train, X_val, y_train, y_val = train_test_split(train[cols], \n",
    "                                                  train['label'], \n",
    "                                                  test_size = 0.3, \n",
    "                                                  stratify = train['label'], \n",
    "                                                  random_state = SEED)"
   ]
  },
  {
   "cell_type": "markdown",
   "metadata": {
    "id": "wwPvklDcc5Br"
   },
   "source": [
    "## **Modeling**"
   ]
  },
  {
   "cell_type": "markdown",
   "metadata": {
    "id": "D-GvyuAFc8xB"
   },
   "source": [
    "#### **Try various machine learning models**"
   ]
  },
  {
   "cell_type": "code",
   "execution_count": 30,
   "metadata": {
    "colab": {
     "base_uri": "https://localhost:8080/"
    },
    "executionInfo": {
     "elapsed": 13393,
     "status": "ok",
     "timestamp": 1618993229142,
     "user": {
      "displayName": "Heeyoon Yang",
      "photoUrl": "https://lh3.googleusercontent.com/a-/AOh14GjNETLFCppB8yGTHZEplmM0zGmYR2gJ3DvbEe_mfg=s64",
      "userId": "13895884260217851907"
     },
     "user_tz": -540
    },
    "id": "3sYptebOg8bD",
    "outputId": "cc73cd70-d5cd-4e67-d3d6-1c1feaeb3f48"
   },
   "outputs": [
    {
     "name": "stdout",
     "output_type": "stream",
     "text": [
      "Collecting catboost\n",
      "\u001b[?25l  Downloading https://files.pythonhosted.org/packages/47/80/8e9c57ec32dfed6ba2922bc5c96462cbf8596ce1a6f5de532ad1e43e53fe/catboost-0.25.1-cp37-none-manylinux1_x86_64.whl (67.3MB)\n",
      "\u001b[K     |████████████████████████████████| 67.3MB 57kB/s \n",
      "\u001b[?25hRequirement already satisfied: six in /usr/local/lib/python3.7/dist-packages (from catboost) (1.15.0)\n",
      "Requirement already satisfied: pandas>=0.24.0 in /usr/local/lib/python3.7/dist-packages (from catboost) (1.1.5)\n",
      "Requirement already satisfied: scipy in /usr/local/lib/python3.7/dist-packages (from catboost) (1.4.1)\n",
      "Requirement already satisfied: matplotlib in /usr/local/lib/python3.7/dist-packages (from catboost) (3.2.2)\n",
      "Requirement already satisfied: numpy>=1.16.0 in /usr/local/lib/python3.7/dist-packages (from catboost) (1.19.5)\n",
      "Requirement already satisfied: plotly in /usr/local/lib/python3.7/dist-packages (from catboost) (4.4.1)\n",
      "Requirement already satisfied: graphviz in /usr/local/lib/python3.7/dist-packages (from catboost) (0.10.1)\n",
      "Requirement already satisfied: pytz>=2017.2 in /usr/local/lib/python3.7/dist-packages (from pandas>=0.24.0->catboost) (2018.9)\n",
      "Requirement already satisfied: python-dateutil>=2.7.3 in /usr/local/lib/python3.7/dist-packages (from pandas>=0.24.0->catboost) (2.8.1)\n",
      "Requirement already satisfied: pyparsing!=2.0.4,!=2.1.2,!=2.1.6,>=2.0.1 in /usr/local/lib/python3.7/dist-packages (from matplotlib->catboost) (2.4.7)\n",
      "Requirement already satisfied: kiwisolver>=1.0.1 in /usr/local/lib/python3.7/dist-packages (from matplotlib->catboost) (1.3.1)\n",
      "Requirement already satisfied: cycler>=0.10 in /usr/local/lib/python3.7/dist-packages (from matplotlib->catboost) (0.10.0)\n",
      "Requirement already satisfied: retrying>=1.3.3 in /usr/local/lib/python3.7/dist-packages (from plotly->catboost) (1.3.3)\n",
      "Installing collected packages: catboost\n",
      "Successfully installed catboost-0.25.1\n"
     ]
    }
   ],
   "source": [
    "! pip3 install catboost"
   ]
  },
  {
   "cell_type": "code",
   "execution_count": 40,
   "metadata": {
    "colab": {
     "base_uri": "https://localhost:8080/"
    },
    "executionInfo": {
     "elapsed": 78923,
     "status": "ok",
     "timestamp": 1618993633535,
     "user": {
      "displayName": "Heeyoon Yang",
      "photoUrl": "https://lh3.googleusercontent.com/a-/AOh14GjNETLFCppB8yGTHZEplmM0zGmYR2gJ3DvbEe_mfg=s64",
      "userId": "13895884260217851907"
     },
     "user_tz": -540
    },
    "id": "wqr5m909ctwx",
    "outputId": "8d9ca394-e906-4322-b8df-f4767207c8ca"
   },
   "outputs": [
    {
     "name": "stdout",
     "output_type": "stream",
     "text": [
      "KNN: 0.837720, 0.0031\n",
      "\n",
      "LogisticRegression: 0.881843, 0.0035\n",
      "\n",
      "SVM: 0.882447, 0.0026\n",
      "\n",
      "DecisionTree: 0.853256, 0.0060\n",
      "\n",
      "RandomForest: 0.875992, 0.0045\n",
      "\n",
      "AdaBoost: 0.844009, 0.0035\n",
      "\n",
      "GB: 0.857601, 0.0033\n",
      "\n",
      "Gaussian: 0.878059, 0.0046\n",
      "\n",
      "XGBoost: 0.855929, 0.0017\n",
      "\n",
      "CatBoost: 0.881756, 0.0038\n",
      "\n"
     ]
    }
   ],
   "source": [
    "from sklearn.neighbors import KNeighborsClassifier\n",
    "from sklearn.linear_model import LogisticRegression\n",
    "from sklearn.svm import SVC\n",
    "from sklearn.tree import DecisionTreeClassifier\n",
    "from sklearn.ensemble import RandomForestClassifier, AdaBoostClassifier, GradientBoostingClassifier\n",
    "from sklearn.naive_bayes import GaussianNB\n",
    "from xgboost import XGBClassifier\n",
    "from catboost import CatBoostClassifier\n",
    "\n",
    "\n",
    "models = [KNeighborsClassifier(),\n",
    "          LogisticRegression(random_state = SEED), \n",
    "          SVC(random_state = SEED), \n",
    "          DecisionTreeClassifier(random_state = SEED),\n",
    "          RandomForestClassifier(random_state = SEED), \n",
    "          AdaBoostClassifier(random_state = SEED),\n",
    "          GradientBoostingClassifier(random_state = SEED),\n",
    "          GaussianNB(),\n",
    "          XGBClassifier(objective = 'binary:logistic'), \n",
    "          CatBoostClassifier(objective = 'Logloss', verbose = 0)]\n",
    "\n",
    "names = ['KNN', 'LogisticRegression', 'SVM', 'DecisionTree', \n",
    "         'RandomForest', 'AdaBoost', 'GB', 'Gaussian', 'XGBoost', 'CatBoost']\n",
    "\n",
    "\n",
    "from sklearn.model_selection import cross_val_score\n",
    "\n",
    "# define cross validation strategy\n",
    "def accu_cv(model, X, y):\n",
    "    acc = np.sqrt(cross_val_score(model, X, y, cv = 3, scoring = 'accuracy'))\n",
    "    return acc\n",
    "\n",
    "for name, model in zip(names, models):\n",
    "    score = accu_cv(model, X_train, y_train)\n",
    "    print(\"{}: {:.6f}, {:.4f}\\n\".format(name, score.mean(), score.std()))"
   ]
  },
  {
   "cell_type": "markdown",
   "metadata": {
    "id": "Wo-qP9c-jBuS"
   },
   "source": [
    "#### **Learn and Check validation scores using Top 5 Classifier**"
   ]
  },
  {
   "cell_type": "markdown",
   "metadata": {
    "id": "nkdvADphi4Kr"
   },
   "source": [
    "##### **Logistic Regression**"
   ]
  },
  {
   "cell_type": "code",
   "execution_count": 42,
   "metadata": {
    "colab": {
     "base_uri": "https://localhost:8080/"
    },
    "executionInfo": {
     "elapsed": 1564,
     "status": "ok",
     "timestamp": 1618993984066,
     "user": {
      "displayName": "Heeyoon Yang",
      "photoUrl": "https://lh3.googleusercontent.com/a-/AOh14GjNETLFCppB8yGTHZEplmM0zGmYR2gJ3DvbEe_mfg=s64",
      "userId": "13895884260217851907"
     },
     "user_tz": -540
    },
    "id": "PhMjlqpBhkYX",
    "outputId": "6d63cc13-2da8-40cb-ff08-65f73b93b49c"
   },
   "outputs": [
    {
     "name": "stdout",
     "output_type": "stream",
     "text": [
      "0.7972496473906912\n",
      "              precision    recall  f1-score   support\n",
      "\n",
      "           0       0.74      0.81      0.77      1215\n",
      "           1       0.85      0.78      0.82      1621\n",
      "\n",
      "    accuracy                           0.80      2836\n",
      "   macro avg       0.79      0.80      0.80      2836\n",
      "weighted avg       0.80      0.80      0.80      2836\n",
      "\n"
     ]
    }
   ],
   "source": [
    "from sklearn.metrics import accuracy_score, classification_report\n",
    "\n",
    "logistic = LogisticRegression(random_state = SEED)\n",
    "\n",
    "logistic_fitted = logistic.fit(X_train, y_train)\n",
    "\n",
    "logistic_val_pred = logistic_fitted.predict(X_val)\n",
    "print(logistic_fitted.score(X_val, y_val))\n",
    "print(classification_report(y_val, logistic_val_pred))"
   ]
  },
  {
   "cell_type": "markdown",
   "metadata": {
    "id": "LCkNYdeXjDCB"
   },
   "source": [
    "##### **SVM**"
   ]
  },
  {
   "cell_type": "code",
   "execution_count": 45,
   "metadata": {
    "colab": {
     "base_uri": "https://localhost:8080/"
    },
    "executionInfo": {
     "elapsed": 2049605,
     "status": "ok",
     "timestamp": 1618996480129,
     "user": {
      "displayName": "Heeyoon Yang",
      "photoUrl": "https://lh3.googleusercontent.com/a-/AOh14GjNETLFCppB8yGTHZEplmM0zGmYR2gJ3DvbEe_mfg=s64",
      "userId": "13895884260217851907"
     },
     "user_tz": -540
    },
    "id": "riMSjv_ekB8V",
    "outputId": "a53001a8-c695-471c-b1bb-05dbc1f71275"
   },
   "outputs": [
    {
     "name": "stdout",
     "output_type": "stream",
     "text": [
      "{'mean_fit_time': array([123.87257711, 122.90283767, 118.88556878, 123.71344519,\n",
      "       123.51840083, 102.45865647, 122.52807792, 122.05800239,\n",
      "       122.76672331, 122.23175391, 119.85414815, 118.81825304,\n",
      "       122.37297829, 122.75309451, 114.13472795, 123.07591883,\n",
      "       119.55664007, 122.58595967, 122.67610113, 115.8177642 ]), 'std_fit_time': array([0.63522391, 1.15724796, 1.13488838, 0.81165944, 0.6140704 ,\n",
      "       0.76412614, 0.80251227, 0.67170701, 0.76497833, 0.65009431,\n",
      "       0.84052798, 0.62732595, 0.62758077, 0.54608987, 0.65306896,\n",
      "       0.61496946, 0.83818868, 0.7488716 , 0.54738833, 4.34700343]), 'mean_score_time': array([8.94075505, 8.3377018 , 7.70640914, 9.19703635, 9.22336213,\n",
      "       7.39807947, 9.16229439, 9.14884933, 9.29726386, 8.60691333,\n",
      "       8.22080008, 8.16351318, 9.32279968, 9.25573317, 7.30821729,\n",
      "       9.07161323, 8.24194837, 9.26214949, 9.22325063, 5.17365201]), 'std_score_time': array([0.08496311, 0.30384314, 0.0736891 , 0.09224134, 0.11195105,\n",
      "       0.05065612, 0.08161277, 0.18549043, 0.07783218, 0.27377068,\n",
      "       0.03344218, 0.09335792, 0.37788633, 0.08317859, 0.07132227,\n",
      "       0.11626911, 0.07189099, 0.11604173, 0.16469636, 1.20906232]), 'param_C': masked_array(data=[8.059782788074047, 3.3894715672839872,\n",
      "                   11.972432813403188, 3.78993105950188, 8.62160514309534,\n",
      "                   2.968943959248608, 11.623959902103916,\n",
      "                   2.866299612485472, 8.165247086179901,\n",
      "                   7.743042944546707, 6.521452437895643,\n",
      "                   7.6930511805057264, 7.837040163239779,\n",
      "                   7.178144003011741, 9.322250269389908,\n",
      "                   8.721289350965124, 10.28014370259165,\n",
      "                   8.174889534311008, 5.01068620764161, 7.896540820670397],\n",
      "             mask=[False, False, False, False, False, False, False, False,\n",
      "                   False, False, False, False, False, False, False, False,\n",
      "                   False, False, False, False],\n",
      "       fill_value='?',\n",
      "            dtype=object), 'param_gamma': masked_array(data=[0.8333693611934981, 0.41267308385468693,\n",
      "                   0.2281623754189607, 0.8529254287760938,\n",
      "                   0.8843101321411226, 0.158571285088036,\n",
      "                   0.7165574438945741, 0.6612723625001966,\n",
      "                   1.0638430228756321, 0.4711608481577816,\n",
      "                   0.30185024783461956, 0.2950959743421153,\n",
      "                   0.5763134735921163, 0.923098633965347,\n",
      "                   0.16905627482497879, 0.7434848063436797,\n",
      "                   0.30446939435483367, 0.717701012022227,\n",
      "                   0.9717405856038457, 1.0817700925910558],\n",
      "             mask=[False, False, False, False, False, False, False, False,\n",
      "                   False, False, False, False, False, False, False, False,\n",
      "                   False, False, False, False],\n",
      "       fill_value='?',\n",
      "            dtype=object), 'params': [{'C': 8.059782788074047, 'gamma': 0.8333693611934981}, {'C': 3.3894715672839872, 'gamma': 0.41267308385468693}, {'C': 11.972432813403188, 'gamma': 0.2281623754189607}, {'C': 3.78993105950188, 'gamma': 0.8529254287760938}, {'C': 8.62160514309534, 'gamma': 0.8843101321411226}, {'C': 2.968943959248608, 'gamma': 0.158571285088036}, {'C': 11.623959902103916, 'gamma': 0.7165574438945741}, {'C': 2.866299612485472, 'gamma': 0.6612723625001966}, {'C': 8.165247086179901, 'gamma': 1.0638430228756321}, {'C': 7.743042944546707, 'gamma': 0.4711608481577816}, {'C': 6.521452437895643, 'gamma': 0.30185024783461956}, {'C': 7.6930511805057264, 'gamma': 0.2950959743421153}, {'C': 7.837040163239779, 'gamma': 0.5763134735921163}, {'C': 7.178144003011741, 'gamma': 0.923098633965347}, {'C': 9.322250269389908, 'gamma': 0.16905627482497879}, {'C': 8.721289350965124, 'gamma': 0.7434848063436797}, {'C': 10.28014370259165, 'gamma': 0.30446939435483367}, {'C': 8.174889534311008, 'gamma': 0.717701012022227}, {'C': 5.01068620764161, 'gamma': 0.9717405856038457}, {'C': 7.896540820670397, 'gamma': 1.0817700925910558}], 'split0_test_score': array([0.65775159, 0.71668178, 0.75657298, 0.65503173, 0.6536718 ,\n",
      "       0.77062557, 0.67452403, 0.68177697, 0.64143246, 0.70444243,\n",
      "       0.73662738, 0.73889393, 0.68993654, 0.65276519, 0.76382593,\n",
      "       0.67044424, 0.73708069, 0.67452403, 0.64687217, 0.64097915]), 'split1_test_score': array([0.64081633, 0.71201814, 0.738322  , 0.63945578, 0.63492063,\n",
      "       0.75646259, 0.65306122, 0.66258503, 0.62086168, 0.70566893,\n",
      "       0.72517007, 0.72789116, 0.67845805, 0.63174603, 0.74739229,\n",
      "       0.64897959, 0.72380952, 0.65306122, 0.62675737, 0.61768707]), 'split2_test_score': array([0.65396825, 0.7138322 , 0.75600907, 0.6521542 , 0.65124717,\n",
      "       0.76961451, 0.66575964, 0.6739229 , 0.64263039, 0.70294785,\n",
      "       0.74512472, 0.7446712 , 0.68662132, 0.65124717, 0.76099773,\n",
      "       0.66394558, 0.74421769, 0.66621315, 0.6462585 , 0.64126984]), 'mean_test_score': array([0.65084539, 0.71417737, 0.75030135, 0.64888057, 0.6466132 ,\n",
      "       0.76556755, 0.6644483 , 0.67276164, 0.63497484, 0.70435307,\n",
      "       0.73564072, 0.73715209, 0.6850053 , 0.64525279, 0.75740532,\n",
      "       0.66112314, 0.73503597, 0.66459947, 0.63996268, 0.63331202]), 'std_test_score': array([0.00725787, 0.0019195 , 0.00847381, 0.00676708, 0.00832694,\n",
      "       0.0064514 , 0.00881108, 0.00787799, 0.00999149, 0.00111268,\n",
      "       0.00817627, 0.00696027, 0.00482338, 0.00957081, 0.0071738 ,\n",
      "       0.0089873 , 0.00845612, 0.00883614, 0.00934092, 0.01104914]), 'rank_test_score': array([14,  7,  3, 15, 16,  1, 12, 10, 19,  8,  5,  4,  9, 17,  2, 13,  6,\n",
      "       11, 18, 20], dtype=int32)}\n",
      "0.7655675547140385\n",
      "{'C': 2.968943959248608, 'gamma': 0.158571285088036}\n",
      "0.7810296191819464\n",
      "              precision    recall  f1-score   support\n",
      "\n",
      "           0       0.72      0.80      0.76      1215\n",
      "           1       0.84      0.77      0.80      1621\n",
      "\n",
      "    accuracy                           0.78      2836\n",
      "   macro avg       0.78      0.78      0.78      2836\n",
      "weighted avg       0.79      0.78      0.78      2836\n",
      "\n"
     ]
    }
   ],
   "source": [
    "from sklearn.model_selection import RandomizedSearchCV\n",
    "from scipy import stats\n",
    "\n",
    "svc = SVC(probability = True, random_state = SEED)\n",
    "\n",
    "param_dict = {\"C\": stats.uniform(2, 10),\n",
    "             \"gamma\": stats.uniform(0.1, 1)}\n",
    "              \n",
    "svc_rs_model = RandomizedSearchCV(svc, param_distributions = param_dict, \n",
    "                                  n_iter = 20, n_jobs = 4, cv = 3, \n",
    "                                  random_state = SEED, scoring = 'accuracy') \n",
    "\n",
    "svc_rs_model_fitted = svc_rs_model.fit(X_train, y_train) \n",
    "\n",
    "print(svc_rs_model_fitted.cv_results_)\n",
    "print(svc_rs_model_fitted.best_score_)\n",
    "print(svc_rs_model_fitted.best_params_)\n",
    "\n",
    "## get val score\n",
    "svc_val_pred = svc_rs_model_fitted.predict(X_val)\n",
    "print(svc_rs_model_fitted.score(X_val, y_val))\n",
    "print(classification_report(y_val, svc_val_pred))"
   ]
  },
  {
   "cell_type": "markdown",
   "metadata": {
    "id": "hF94HZkLjFen"
   },
   "source": [
    "##### **RandomForest**"
   ]
  },
  {
   "cell_type": "code",
   "execution_count": 46,
   "metadata": {
    "colab": {
     "base_uri": "https://localhost:8080/"
    },
    "executionInfo": {
     "elapsed": 346047,
     "status": "ok",
     "timestamp": 1618996831809,
     "user": {
      "displayName": "Heeyoon Yang",
      "photoUrl": "https://lh3.googleusercontent.com/a-/AOh14GjNETLFCppB8yGTHZEplmM0zGmYR2gJ3DvbEe_mfg=s64",
      "userId": "13895884260217851907"
     },
     "user_tz": -540
    },
    "id": "krF4uHtcl4CX",
    "outputId": "bcb990e4-e2fb-4dbd-920b-6046af49335b"
   },
   "outputs": [
    {
     "name": "stdout",
     "output_type": "stream",
     "text": [
      "{'mean_fit_time': array([15.40106837, 38.06642501,  6.81885529,  7.6675361 ,  9.21077243,\n",
      "        8.54847074, 60.21060618, 14.35216482, 33.27602267,  7.24920201,\n",
      "        5.41965914, 28.09800712, 10.86266478,  7.99857934, 37.98157676,\n",
      "       56.02618313, 12.38220684,  6.97341402, 22.1728456 , 47.61396813]), 'std_fit_time': array([0.19247915, 0.11696777, 0.06789224, 0.13613254, 0.05922552,\n",
      "       0.06966469, 0.74072232, 0.12696573, 0.43208556, 0.04867814,\n",
      "       0.02288229, 0.28205677, 0.16319556, 0.09709924, 0.61045473,\n",
      "       0.77979815, 0.1344209 , 0.13168737, 0.1608063 , 1.7405069 ]), 'mean_score_time': array([0.11776789, 0.29688613, 0.08147001, 0.15863895, 0.10161384,\n",
      "       0.09989548, 0.37656434, 0.10973247, 0.1744206 , 0.10363118,\n",
      "       0.09905044, 0.2201248 , 0.17454823, 0.11080432, 0.29677176,\n",
      "       0.37914507, 0.16951235, 0.11729344, 0.26402855, 0.19513043]), 'std_score_time': array([0.01805018, 0.05104279, 0.0018533 , 0.00415621, 0.00389089,\n",
      "       0.00397665, 0.00224808, 0.00815246, 0.00731222, 0.00595027,\n",
      "       0.00044466, 0.00589709, 0.01210151, 0.00551816, 0.03901547,\n",
      "       0.01197338, 0.02303153, 0.03255121, 0.00928023, 0.06015186]), 'param_n_estimators': masked_array(data=[115, 384, 115, 252, 166, 115, 384, 115, 175, 153, 166,\n",
      "                   263, 160, 166, 263, 384, 252, 252, 263, 384],\n",
      "             mask=[False, False, False, False, False, False, False, False,\n",
      "                   False, False, False, False, False, False, False, False,\n",
      "                   False, False, False, False],\n",
      "       fill_value='?',\n",
      "            dtype=object), 'param_max_features': masked_array(data=[0.8687516331248006, 0.6781310709858817,\n",
      "                   0.8550980597945284, 0.3796376011437854,\n",
      "                   0.7949584929294435, 0.48269987571133194,\n",
      "                   0.8281692635079518, 0.8124436050523363,\n",
      "                   0.9721301114612089, 0.6634108900238511,\n",
      "                   0.5228639918461422, 0.7326506678752794,\n",
      "                   0.3068469235487296, 0.6753114121105482,\n",
      "                   0.7240264611046303, 0.7326506678752794,\n",
      "                   0.6964451082409762, 0.5653432869384748,\n",
      "                   0.4163875777410522, 0.8224485569487794],\n",
      "             mask=[False, False, False, False, False, False, False, False,\n",
      "                   False, False, False, False, False, False, False, False,\n",
      "                   False, False, False, False],\n",
      "       fill_value='?',\n",
      "            dtype=object), 'param_max_depth': masked_array(data=[13, 12, 5, 5, 5, 12, 17, 13, 18, 5, 4, 12, 18, 5, 18,\n",
      "                   18, 5, 3, 17, 17],\n",
      "             mask=[False, False, False, False, False, False, False, False,\n",
      "                   False, False, False, False, False, False, False, False,\n",
      "                   False, False, False, False],\n",
      "       fill_value='?',\n",
      "            dtype=object), 'params': [{'n_estimators': 115, 'max_features': 0.8687516331248006, 'max_depth': 13}, {'n_estimators': 384, 'max_features': 0.6781310709858817, 'max_depth': 12}, {'n_estimators': 115, 'max_features': 0.8550980597945284, 'max_depth': 5}, {'n_estimators': 252, 'max_features': 0.3796376011437854, 'max_depth': 5}, {'n_estimators': 166, 'max_features': 0.7949584929294435, 'max_depth': 5}, {'n_estimators': 115, 'max_features': 0.48269987571133194, 'max_depth': 12}, {'n_estimators': 384, 'max_features': 0.8281692635079518, 'max_depth': 17}, {'n_estimators': 115, 'max_features': 0.8124436050523363, 'max_depth': 13}, {'n_estimators': 175, 'max_features': 0.9721301114612089, 'max_depth': 18}, {'n_estimators': 153, 'max_features': 0.6634108900238511, 'max_depth': 5}, {'n_estimators': 166, 'max_features': 0.5228639918461422, 'max_depth': 4}, {'n_estimators': 263, 'max_features': 0.7326506678752794, 'max_depth': 12}, {'n_estimators': 160, 'max_features': 0.3068469235487296, 'max_depth': 18}, {'n_estimators': 166, 'max_features': 0.6753114121105482, 'max_depth': 5}, {'n_estimators': 263, 'max_features': 0.7240264611046303, 'max_depth': 18}, {'n_estimators': 384, 'max_features': 0.7326506678752794, 'max_depth': 18}, {'n_estimators': 252, 'max_features': 0.6964451082409762, 'max_depth': 5}, {'n_estimators': 252, 'max_features': 0.5653432869384748, 'max_depth': 3}, {'n_estimators': 263, 'max_features': 0.4163875777410522, 'max_depth': 17}, {'n_estimators': 384, 'max_features': 0.8224485569487794, 'max_depth': 17}], 'split0_test_score': array([0.68676337, 0.68132366, 0.65004533, 0.65911151, 0.65004533,\n",
      "       0.68177697, 0.6980961 , 0.68766999, 0.70036265, 0.64959202,\n",
      "       0.64641886, 0.67679057, 0.70670898, 0.64913871, 0.70217588,\n",
      "       0.70217588, 0.65956482, 0.62783318, 0.69628286, 0.69764279]), 'split1_test_score': array([0.67301587, 0.67210884, 0.63446712, 0.64036281, 0.63401361,\n",
      "       0.67346939, 0.69024943, 0.67301587, 0.69433107, 0.63401361,\n",
      "       0.63265306, 0.6707483 , 0.70068027, 0.63265306, 0.69705215,\n",
      "       0.6952381 , 0.63401361, 0.62040816, 0.69342404, 0.69297052]), 'split2_test_score': array([0.68707483, 0.66893424, 0.63854875, 0.64489796, 0.63809524,\n",
      "       0.67482993, 0.70612245, 0.68979592, 0.71519274, 0.6399093 ,\n",
      "       0.63900227, 0.6707483 , 0.71609977, 0.63854875, 0.7138322 ,\n",
      "       0.71201814, 0.64036281, 0.62857143, 0.70748299, 0.70612245]), 'mean_test_score': array([0.68228469, 0.67412225, 0.6410204 , 0.6481241 , 0.64071806,\n",
      "       0.6766921 , 0.69815599, 0.68349393, 0.70329549, 0.64117164,\n",
      "       0.63935806, 0.67276239, 0.70782967, 0.64011351, 0.70435341,\n",
      "       0.70314404, 0.64464708, 0.62560426, 0.6990633 , 0.69891192]), 'std_test_score': array([0.00655528, 0.00525451, 0.00659555, 0.00798684, 0.00680262,\n",
      "       0.0036382 , 0.00648027, 0.00745976, 0.0087656 , 0.0064222 ,\n",
      "       0.00562549, 0.00284835, 0.00634467, 0.00682058, 0.00702133,\n",
      "       0.00688455, 0.01086224, 0.00368653, 0.00606694, 0.00544373]), 'rank_test_score': array([ 9, 11, 16, 13, 17, 10,  7,  8,  3, 15, 19, 12,  1, 18,  2,  4, 14,\n",
      "       20,  5,  6], dtype=int32)}\n",
      "0.7078296736242597\n",
      "{'n_estimators': 160, 'max_features': 0.3068469235487296, 'max_depth': 18}\n",
      "0.6921720733427362\n",
      "              precision    recall  f1-score   support\n",
      "\n",
      "           0       0.88      0.33      0.48      1215\n",
      "           1       0.66      0.97      0.78      1621\n",
      "\n",
      "    accuracy                           0.69      2836\n",
      "   macro avg       0.77      0.65      0.63      2836\n",
      "weighted avg       0.75      0.69      0.65      2836\n",
      "\n"
     ]
    }
   ],
   "source": [
    "rf = RandomForestClassifier(random_state = SEED)\n",
    "\n",
    "param_dict = {'max_depth' : np.random.randint(2, 20, 10),\n",
    "               'max_features' : np.random.uniform(0.3, 1.0, 100),\n",
    "               'n_estimators' : np.random.randint(100, 400, 10)}\n",
    "\n",
    "rf_rs_model = RandomizedSearchCV(rf, param_distributions = param_dict, \n",
    "                                 n_iter = 20, n_jobs = 4, cv = 3, \n",
    "                                 random_state = SEED, scoring = 'accuracy') \n",
    "\n",
    "rf_rs_model_fitted = rf_rs_model.fit(X_train, y_train) \n",
    "\n",
    "print(rf_rs_model_fitted.cv_results_)\n",
    "print(rf_rs_model_fitted.best_score_)\n",
    "print(rf_rs_model_fitted.best_params_)\n",
    "\n",
    "## get val score\n",
    "svc_val_pred = rf_rs_model_fitted.predict(X_val)\n",
    "print(rf_rs_model_fitted.score(X_val, y_val))\n",
    "print(classification_report(y_val, svc_val_pred))"
   ]
  },
  {
   "cell_type": "markdown",
   "metadata": {
    "id": "2JSMwxIJjKmH"
   },
   "source": [
    "##### **GaussianNB**"
   ]
  },
  {
   "cell_type": "code",
   "execution_count": 47,
   "metadata": {
    "colab": {
     "base_uri": "https://localhost:8080/"
    },
    "executionInfo": {
     "elapsed": 346035,
     "status": "ok",
     "timestamp": 1618996831810,
     "user": {
      "displayName": "Heeyoon Yang",
      "photoUrl": "https://lh3.googleusercontent.com/a-/AOh14GjNETLFCppB8yGTHZEplmM0zGmYR2gJ3DvbEe_mfg=s64",
      "userId": "13895884260217851907"
     },
     "user_tz": -540
    },
    "id": "LnLLVyTPoE0s",
    "outputId": "bce75bf5-df17-42d4-bfd4-05d339944b04"
   },
   "outputs": [
    {
     "name": "stdout",
     "output_type": "stream",
     "text": [
      "0.78737658674189\n",
      "0.78737658674189\n",
      "              precision    recall  f1-score   support\n",
      "\n",
      "           0       0.85      0.61      0.71      1215\n",
      "           1       0.76      0.92      0.83      1621\n",
      "\n",
      "    accuracy                           0.79      2836\n",
      "   macro avg       0.81      0.77      0.77      2836\n",
      "weighted avg       0.80      0.79      0.78      2836\n",
      "\n"
     ]
    }
   ],
   "source": [
    "gnb = GaussianNB()\n",
    "gnb_fitted = gnb.fit(X_train, y_train)\n",
    "print(gnb_fitted.score(X_val, y_val))\n",
    "\n",
    "## get val score\n",
    "gnb_val_pred = gnb_fitted.predict(X_val)\n",
    "print(gnb_fitted.score(X_val, y_val))\n",
    "print(classification_report(y_val, gnb_val_pred))"
   ]
  },
  {
   "cell_type": "markdown",
   "metadata": {
    "id": "KOIS2i1ajSSe"
   },
   "source": [
    "##### **CatBoost**"
   ]
  },
  {
   "cell_type": "code",
   "execution_count": 55,
   "metadata": {
    "colab": {
     "base_uri": "https://localhost:8080/"
    },
    "executionInfo": {
     "elapsed": 3815566,
     "status": "ok",
     "timestamp": 1619001341418,
     "user": {
      "displayName": "Heeyoon Yang",
      "photoUrl": "https://lh3.googleusercontent.com/a-/AOh14GjNETLFCppB8yGTHZEplmM0zGmYR2gJ3DvbEe_mfg=s64",
      "userId": "13895884260217851907"
     },
     "user_tz": -540
    },
    "id": "vWXEN92bjO9_",
    "outputId": "5e8f1358-ae1e-4b3f-bb30-f947c8f1ce60"
   },
   "outputs": [
    {
     "name": "stdout",
     "output_type": "stream",
     "text": [
      "{'mean_fit_time': array([1.48383172e+00, 1.64348086e+00, 1.58503413e+00, 1.58477934e+00,\n",
      "       1.56409995e+00, 1.59072200e+00, 1.55099932e+00, 1.58096043e+00,\n",
      "       1.55998500e+00, 1.58779001e+00, 1.81206206e+03, 2.25640543e+00,\n",
      "       2.32000152e+00, 2.30587443e+00, 2.18668612e+00, 2.28221742e+00,\n",
      "       2.43489305e+00, 2.35832890e+00, 2.35278924e+00, 2.32435465e+00]), 'std_fit_time': array([2.22651770e-01, 1.09587955e-01, 3.23131713e-03, 1.43717599e-02,\n",
      "       2.56729182e-02, 9.58767075e-02, 1.36232086e-01, 1.75501338e-02,\n",
      "       1.07848783e-02, 2.47530134e-02, 2.45417002e+02, 2.99145542e-01,\n",
      "       5.78328720e-02, 7.40800543e-02, 2.70074958e-01, 1.09044115e-01,\n",
      "       2.32322682e-02, 4.99183128e-02, 4.60863743e-02, 2.04724371e-02]), 'mean_score_time': array([0.        , 0.        , 0.        , 0.        , 0.        ,\n",
      "       0.        , 0.        , 0.        , 0.        , 0.        ,\n",
      "       0.54760853, 0.        , 0.        , 0.        , 0.        ,\n",
      "       0.        , 0.        , 0.        , 0.        , 0.        ]), 'std_score_time': array([0.        , 0.        , 0.        , 0.        , 0.        ,\n",
      "       0.        , 0.        , 0.        , 0.        , 0.        ,\n",
      "       0.22148343, 0.        , 0.        , 0.        , 0.        ,\n",
      "       0.        , 0.        , 0.        , 0.        , 0.        ]), 'param_learning_rate': masked_array(data=[0.05204081632653061, 0.07551020408163266,\n",
      "                   0.05102040816326531, 0.07244897959183674,\n",
      "                   0.06938775510204082, 0.06836734693877551,\n",
      "                   0.07244897959183674, 0.0642857142857143,\n",
      "                   0.05102040816326531, 0.09285714285714286,\n",
      "                   0.0836734693877551, 0.1, 0.07755102040816328,\n",
      "                   0.08571428571428572, 0.09285714285714286,\n",
      "                   0.0989795918367347, 0.0663265306122449,\n",
      "                   0.08673469387755103, 0.09285714285714286,\n",
      "                   0.07040816326530613],\n",
      "             mask=[False, False, False, False, False, False, False, False,\n",
      "                   False, False, False, False, False, False, False, False,\n",
      "                   False, False, False, False],\n",
      "       fill_value='?',\n",
      "            dtype=object), 'param_iterations': masked_array(data=[2843, 1747, 1866, 2276, 2705, 1300, 2383, 2788, 1847,\n",
      "                   1581, 2859, 2216, 2384, 1406, 1981, 2933, 2107, 2768,\n",
      "                   1581, 2402],\n",
      "             mask=[False, False, False, False, False, False, False, False,\n",
      "                   False, False, False, False, False, False, False, False,\n",
      "                   False, False, False, False],\n",
      "       fill_value='?',\n",
      "            dtype=object), 'param_depth': masked_array(data=[59, 56, 86, 27, 77, 85, 61, 43, 61, 59, 14, 85, 43, 35,\n",
      "                   65, 71, 61, 65, 29, 89],\n",
      "             mask=[False, False, False, False, False, False, False, False,\n",
      "                   False, False, False, False, False, False, False, False,\n",
      "                   False, False, False, False],\n",
      "       fill_value='?',\n",
      "            dtype=object), 'params': [{'learning_rate': 0.05204081632653061, 'iterations': 2843, 'depth': 59}, {'learning_rate': 0.07551020408163266, 'iterations': 1747, 'depth': 56}, {'learning_rate': 0.05102040816326531, 'iterations': 1866, 'depth': 86}, {'learning_rate': 0.07244897959183674, 'iterations': 2276, 'depth': 27}, {'learning_rate': 0.06938775510204082, 'iterations': 2705, 'depth': 77}, {'learning_rate': 0.06836734693877551, 'iterations': 1300, 'depth': 85}, {'learning_rate': 0.07244897959183674, 'iterations': 2383, 'depth': 61}, {'learning_rate': 0.0642857142857143, 'iterations': 2788, 'depth': 43}, {'learning_rate': 0.05102040816326531, 'iterations': 1847, 'depth': 61}, {'learning_rate': 0.09285714285714286, 'iterations': 1581, 'depth': 59}, {'learning_rate': 0.0836734693877551, 'iterations': 2859, 'depth': 14}, {'learning_rate': 0.1, 'iterations': 2216, 'depth': 85}, {'learning_rate': 0.07755102040816328, 'iterations': 2384, 'depth': 43}, {'learning_rate': 0.08571428571428572, 'iterations': 1406, 'depth': 35}, {'learning_rate': 0.09285714285714286, 'iterations': 1981, 'depth': 65}, {'learning_rate': 0.0989795918367347, 'iterations': 2933, 'depth': 71}, {'learning_rate': 0.0663265306122449, 'iterations': 2107, 'depth': 61}, {'learning_rate': 0.08673469387755103, 'iterations': 2768, 'depth': 65}, {'learning_rate': 0.09285714285714286, 'iterations': 1581, 'depth': 29}, {'learning_rate': 0.07040816326530613, 'iterations': 2402, 'depth': 89}], 'split0_test_score': array([       nan,        nan,        nan,        nan,        nan,\n",
      "              nan,        nan,        nan,        nan,        nan,\n",
      "       0.77334542,        nan,        nan,        nan,        nan,\n",
      "              nan,        nan,        nan,        nan,        nan]), 'split1_test_score': array([       nan,        nan,        nan,        nan,        nan,\n",
      "              nan,        nan,        nan,        nan,        nan,\n",
      "       0.76462585,        nan,        nan,        nan,        nan,\n",
      "              nan,        nan,        nan,        nan,        nan]), 'split2_test_score': array([       nan,        nan,        nan,        nan,        nan,\n",
      "              nan,        nan,        nan,        nan,        nan,\n",
      "       0.77868481,        nan,        nan,        nan,        nan,\n",
      "              nan,        nan,        nan,        nan,        nan]), 'mean_test_score': array([       nan,        nan,        nan,        nan,        nan,\n",
      "              nan,        nan,        nan,        nan,        nan,\n",
      "       0.77221869,        nan,        nan,        nan,        nan,\n",
      "              nan,        nan,        nan,        nan,        nan]), 'std_test_score': array([       nan,        nan,        nan,        nan,        nan,\n",
      "              nan,        nan,        nan,        nan,        nan,\n",
      "       0.00579458,        nan,        nan,        nan,        nan,\n",
      "              nan,        nan,        nan,        nan,        nan]), 'rank_test_score': array([ 2, 18, 17, 16, 15, 14, 13, 12, 11, 10,  1,  9,  8,  7,  6,  5,  4,\n",
      "        3, 19, 20], dtype=int32)}\n",
      "0.7722186930579626\n",
      "{'learning_rate': 0.0836734693877551, 'iterations': 2859, 'depth': 14}\n",
      "0.7817348377997179\n",
      "              precision    recall  f1-score   support\n",
      "\n",
      "           0       0.72      0.80      0.76      1215\n",
      "           1       0.84      0.77      0.80      1621\n",
      "\n",
      "    accuracy                           0.78      2836\n",
      "   macro avg       0.78      0.78      0.78      2836\n",
      "weighted avg       0.79      0.78      0.78      2836\n",
      "\n"
     ]
    }
   ],
   "source": [
    "import random\n",
    "\n",
    "cat_cols = X_train.columns.difference(['w_cnt', 'w_perc']).to_numpy()\n",
    "\n",
    "catb = CatBoostClassifier(objective = 'Logloss', \n",
    "                          cat_features = cat_cols,\n",
    "                          od_type = 'Iter',\n",
    "                          od_wait = 100,\n",
    "                          verbose = 0)\n",
    "\n",
    "param_dict = {'learning_rate' : np.linspace(0.05, 0.1),\n",
    "              'depth' : random.sample(range(5, 100), 50),\n",
    "              'iterations' : random.sample(range(1000, 3000), 50)\n",
    "              }\n",
    "\n",
    "catb_rs_model = RandomizedSearchCV(catb, param_distributions = param_dict, \n",
    "                                   n_iter = 20, n_jobs = 4, cv = 3, \n",
    "                                   random_state = SEED, scoring = 'accuracy') \n",
    "\n",
    "catb_rs_model_fitted = catb_rs_model.fit(X_train, y_train) \n",
    "\n",
    "print(catb_rs_model_fitted.cv_results_)\n",
    "print(catb_rs_model_fitted.best_score_)\n",
    "print(catb_rs_model_fitted.best_params_)\n",
    "\n",
    "## get val score\n",
    "catb_val_pred = catb_rs_model_fitted.predict(X_val)\n",
    "print(catb_rs_model_fitted.score(X_val, y_val))\n",
    "print(classification_report(y_val, catb_val_pred))"
   ]
  },
  {
   "cell_type": "code",
   "execution_count": 56,
   "metadata": {
    "colab": {
     "base_uri": "https://localhost:8080/"
    },
    "executionInfo": {
     "elapsed": 7288,
     "status": "ok",
     "timestamp": 1619004102648,
     "user": {
      "displayName": "Heeyoon Yang",
      "photoUrl": "https://lh3.googleusercontent.com/a-/AOh14GjNETLFCppB8yGTHZEplmM0zGmYR2gJ3DvbEe_mfg=s64",
      "userId": "13895884260217851907"
     },
     "user_tz": -540
    },
    "id": "d-bskbvExb0M",
    "outputId": "50105993-b85b-498f-8c44-49dbb11ac0c3"
   },
   "outputs": [
    {
     "name": "stdout",
     "output_type": "stream",
     "text": [
      "Logistic Regression Validation Score : 0.797\n",
      "SVM Random Search Validation Score : 0.781\n",
      "RandomForest Random Search Validation Score : 0.692\n",
      "Gaussian NB Random Search Validation Score : 0.787\n",
      "CatBoost Random Search Validation Score : 0.782\n"
     ]
    }
   ],
   "source": [
    "print(\"Logistic Regression Validation Score : {:.3f}\".format(logistic_fitted.score(X_val, y_val)))\n",
    "print(\"SVM Random Search Validation Score : {:.3f}\".format(svc_rs_model_fitted.score(X_val, y_val)))\n",
    "print(\"RandomForest Random Search Validation Score : {:.3f}\".format(rf_rs_model_fitted.score(X_val, y_val)))\n",
    "print(\"Gaussian NB Random Search Validation Score : {:.3f}\".format(gnb_fitted.score(X_val, y_val)))\n",
    "print(\"CatBoost Random Search Validation Score : {:.3f}\".format(catb_rs_model_fitted.score(X_val, y_val)))"
   ]
  }
 ],
 "metadata": {
  "colab": {
   "collapsed_sections": [],
   "name": "Qualifying_Round.ipynb",
   "provenance": []
  },
  "kernelspec": {
   "display_name": "Python 3",
   "language": "python",
   "name": "python3"
  },
  "language_info": {
   "codemirror_mode": {
    "name": "ipython",
    "version": 3
   },
   "file_extension": ".py",
   "mimetype": "text/x-python",
   "name": "python",
   "nbconvert_exporter": "python",
   "pygments_lexer": "ipython3",
   "version": "3.6.7"
  }
 },
 "nbformat": 4,
 "nbformat_minor": 4
}
